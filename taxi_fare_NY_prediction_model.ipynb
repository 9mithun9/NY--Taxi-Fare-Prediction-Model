{
  "nbformat": 4,
  "nbformat_minor": 0,
  "metadata": {
    "colab": {
      "provenance": [],
      "authorship_tag": "ABX9TyP5A0RYnzXIqCqQCF0ZOfdW",
      "include_colab_link": true
    },
    "kernelspec": {
      "name": "python3",
      "display_name": "Python 3"
    },
    "language_info": {
      "name": "python"
    }
  },
  "cells": [
    {
      "cell_type": "markdown",
      "metadata": {
        "id": "view-in-github",
        "colab_type": "text"
      },
      "source": [
        "<a href=\"https://colab.research.google.com/github/9mithun9/NY--Taxi-Fare-Prediction-Model/blob/main/taxi_fare_NY_prediction_model.ipynb\" target=\"_parent\"><img src=\"https://colab.research.google.com/assets/colab-badge.svg\" alt=\"Open In Colab\"/></a>"
      ]
    },
    {
      "cell_type": "markdown",
      "source": [
        "**Installation & Dataset**\n",
        "\n",
        "\n",
        "*   installation of necessary libraries\n",
        "*   downloading dataset from kaggle"
      ],
      "metadata": {
        "id": "dckPa0J3v9gh"
      }
    },
    {
      "cell_type": "code",
      "source": [
        "!pip install opendatasets --quiet"
      ],
      "metadata": {
        "id": "o5SMl_kl7Wfl"
      },
      "execution_count": 8,
      "outputs": []
    },
    {
      "cell_type": "code",
      "execution_count": 9,
      "metadata": {
        "id": "km5rv2en7MEv"
      },
      "outputs": [],
      "source": [
        "import opendatasets as od"
      ]
    },
    {
      "cell_type": "code",
      "source": [
        "dataset_url = 'https://www.kaggle.com/competitions/new-york-city-taxi-fare-prediction/data'"
      ],
      "metadata": {
        "id": "NPlnVrRQ7g2q"
      },
      "execution_count": 10,
      "outputs": []
    },
    {
      "cell_type": "code",
      "source": [
        "od.download(dataset_url)"
      ],
      "metadata": {
        "colab": {
          "base_uri": "https://localhost:8080/"
        },
        "id": "WuY3on6M7l1e",
        "outputId": "3a9ec2f8-b15b-4320-bbfb-e9ce45c68fdd"
      },
      "execution_count": 12,
      "outputs": [
        {
          "output_type": "stream",
          "name": "stdout",
          "text": [
            "Please provide your Kaggle credentials to download this dataset. Learn more: http://bit.ly/kaggle-creds\n",
            "Your Kaggle username: mehedferewrfs\n",
            "Your Kaggle Key: ··········\n",
            "Extracting archive ./new-york-city-taxi-fare-prediction/new-york-city-taxi-fare-prediction.zip to ./new-york-city-taxi-fare-prediction\n"
          ]
        }
      ]
    },
    {
      "cell_type": "code",
      "source": [
        "data_dir = 'new-york-city-taxi-fare-prediction'"
      ],
      "metadata": {
        "id": "AvPdIgrP8Ddv"
      },
      "execution_count": 13,
      "outputs": []
    },
    {
      "cell_type": "code",
      "source": [
        "!ls -lh {data_dir}"
      ],
      "metadata": {
        "colab": {
          "base_uri": "https://localhost:8080/"
        },
        "id": "_Ii7RYmE8O-x",
        "outputId": "771d6bc9-c200-477e-85c0-c0c9ed4f8066"
      },
      "execution_count": 14,
      "outputs": [
        {
          "output_type": "stream",
          "name": "stdout",
          "text": [
            "total 5.4G\n",
            "-rw-r--r-- 1 root root  486 May 13 08:32 GCP-Coupons-Instructions.rtf\n",
            "-rw-r--r-- 1 root root 336K May 13 08:32 sample_submission.csv\n",
            "-rw-r--r-- 1 root root 960K May 13 08:32 test.csv\n",
            "-rw-r--r-- 1 root root 5.4G May 13 08:33 train.csv\n"
          ]
        }
      ]
    },
    {
      "cell_type": "code",
      "source": [
        "!wc -l {data_dir}/train.csv"
      ],
      "metadata": {
        "colab": {
          "base_uri": "https://localhost:8080/"
        },
        "id": "-eLUXtmW8k_X",
        "outputId": "86c14b55-9fc1-4f76-9026-e4e2a2a0657d"
      },
      "execution_count": 15,
      "outputs": [
        {
          "output_type": "stream",
          "name": "stdout",
          "text": [
            "55423856 new-york-city-taxi-fare-prediction/train.csv\n"
          ]
        }
      ]
    },
    {
      "cell_type": "code",
      "source": [
        "!head {data_dir}/train.csv"
      ],
      "metadata": {
        "colab": {
          "base_uri": "https://localhost:8080/"
        },
        "id": "LBk3avE-84I1",
        "outputId": "8d378459-5b8b-4d98-c556-68b37ac295da"
      },
      "execution_count": 16,
      "outputs": [
        {
          "output_type": "stream",
          "name": "stdout",
          "text": [
            "key,fare_amount,pickup_datetime,pickup_longitude,pickup_latitude,dropoff_longitude,dropoff_latitude,passenger_count\r\n",
            "2009-06-15 17:26:21.0000001,4.5,2009-06-15 17:26:21 UTC,-73.844311,40.721319,-73.84161,40.712278,1\r\n",
            "2010-01-05 16:52:16.0000002,16.9,2010-01-05 16:52:16 UTC,-74.016048,40.711303,-73.979268,40.782004,1\r\n",
            "2011-08-18 00:35:00.00000049,5.7,2011-08-18 00:35:00 UTC,-73.982738,40.76127,-73.991242,40.750562,2\r\n",
            "2012-04-21 04:30:42.0000001,7.7,2012-04-21 04:30:42 UTC,-73.98713,40.733143,-73.991567,40.758092,1\r\n",
            "2010-03-09 07:51:00.000000135,5.3,2010-03-09 07:51:00 UTC,-73.968095,40.768008,-73.956655,40.783762,1\r\n",
            "2011-01-06 09:50:45.0000002,12.1,2011-01-06 09:50:45 UTC,-74.000964,40.73163,-73.972892,40.758233,1\r\n",
            "2012-11-20 20:35:00.0000001,7.5,2012-11-20 20:35:00 UTC,-73.980002,40.751662,-73.973802,40.764842,1\r\n",
            "2012-01-04 17:22:00.00000081,16.5,2012-01-04 17:22:00 UTC,-73.9513,40.774138,-73.990095,40.751048,1\r\n",
            "2012-12-03 13:10:00.000000125,9,2012-12-03 13:10:00 UTC,-74.006462,40.726713,-73.993078,40.731628,1\r\n"
          ]
        }
      ]
    },
    {
      "cell_type": "markdown",
      "source": [
        "**Sampling 1% of Data**\n",
        "\n",
        "\n",
        "*   As the dataset is huge with 55 millions, we are taking one 1% (~550000) of data\n",
        "*   for traing and validation\n",
        "The 1% of data are being taken randomly"
      ],
      "metadata": {
        "id": "zBEpRfEwwdYb"
      }
    },
    {
      "cell_type": "code",
      "source": [
        "import pandas as pd"
      ],
      "metadata": {
        "id": "XbJd50EF-fAG"
      },
      "execution_count": 17,
      "outputs": []
    },
    {
      "cell_type": "code",
      "source": [
        "cols = 'fare_amount,pickup_datetime,pickup_longitude,pickup_latitude,dropoff_longitude,dropoff_latitude,passenger_count'.split(',')\n",
        "cols"
      ],
      "metadata": {
        "colab": {
          "base_uri": "https://localhost:8080/"
        },
        "id": "tBdnaBiiAM5s",
        "outputId": "b05101bb-e24a-470e-cd62-2715a0e29c55"
      },
      "execution_count": 18,
      "outputs": [
        {
          "output_type": "execute_result",
          "data": {
            "text/plain": [
              "['fare_amount',\n",
              " 'pickup_datetime',\n",
              " 'pickup_longitude',\n",
              " 'pickup_latitude',\n",
              " 'dropoff_longitude',\n",
              " 'dropoff_latitude',\n",
              " 'passenger_count']"
            ]
          },
          "metadata": {},
          "execution_count": 18
        }
      ]
    },
    {
      "cell_type": "code",
      "source": [
        "d_types = {\n",
        "    'fare_amount': 'float32',\n",
        "    'pickup_longitude': 'float32',\n",
        "    'pickup_latitude' : 'float32',\n",
        "    'dropoff_longitude': 'float32',\n",
        "    'dropoff_latitude': 'float32',\n",
        "    'passenger_count': 'uint8'\n",
        "}"
      ],
      "metadata": {
        "id": "XieYvOg1AaFx"
      },
      "execution_count": 19,
      "outputs": []
    },
    {
      "cell_type": "code",
      "source": [
        "sample_fraction = 0.01"
      ],
      "metadata": {
        "id": "PS4TBn5yB2mc"
      },
      "execution_count": 20,
      "outputs": []
    },
    {
      "cell_type": "code",
      "source": [
        "import random"
      ],
      "metadata": {
        "id": "YKrZuPJAB4_R"
      },
      "execution_count": 21,
      "outputs": []
    },
    {
      "cell_type": "code",
      "source": [
        "def skip_rows(row_idx):\n",
        "  if row_idx == 0:\n",
        "    return False\n",
        "  return random.random() > sample_fraction"
      ],
      "metadata": {
        "id": "ovves6i1BdE9"
      },
      "execution_count": 22,
      "outputs": []
    },
    {
      "cell_type": "code",
      "source": [
        "random.seed(42)\n",
        "df = pd.read_csv(data_dir+'/train.csv',\n",
        "                 usecols=cols,\n",
        "                 dtype=d_types,\n",
        "                 skiprows=skip_rows,\n",
        "                 parse_dates=['pickup_datetime'])\n"
      ],
      "metadata": {
        "id": "CXgMF4Kf-vN9"
      },
      "execution_count": 23,
      "outputs": []
    },
    {
      "cell_type": "code",
      "source": [
        "df.info()"
      ],
      "metadata": {
        "id": "djUUgSCPDk-f"
      },
      "execution_count": null,
      "outputs": []
    },
    {
      "cell_type": "code",
      "source": [
        "df"
      ],
      "metadata": {
        "id": "o_g-3CpWIZKB"
      },
      "execution_count": null,
      "outputs": []
    },
    {
      "cell_type": "code",
      "source": [
        "df.isna().sum()"
      ],
      "metadata": {
        "id": "6JpxmbAc7TzI"
      },
      "execution_count": null,
      "outputs": []
    },
    {
      "cell_type": "code",
      "source": [
        "test_df = pd.read_csv(data_dir+'/test.csv',dtype=d_types, parse_dates=['pickup_datetime'])"
      ],
      "metadata": {
        "id": "QAoHB768IMmR"
      },
      "execution_count": 24,
      "outputs": []
    },
    {
      "cell_type": "code",
      "source": [
        "test_df"
      ],
      "metadata": {
        "id": "6YnVrZ66Iywx"
      },
      "execution_count": null,
      "outputs": []
    },
    {
      "cell_type": "code",
      "source": [
        "df.describe()"
      ],
      "metadata": {
        "id": "j1v6jKx2JYsC"
      },
      "execution_count": null,
      "outputs": []
    },
    {
      "cell_type": "code",
      "source": [
        "test_df.info()"
      ],
      "metadata": {
        "id": "znBMkm5-KUF5"
      },
      "execution_count": null,
      "outputs": []
    },
    {
      "cell_type": "code",
      "source": [
        "test_df.describe()"
      ],
      "metadata": {
        "id": "mPXRqq6xKuqw"
      },
      "execution_count": null,
      "outputs": []
    },
    {
      "cell_type": "markdown",
      "source": [
        "**Spliting Data**\n",
        "\n",
        "\n",
        "*   Spliting 20% of the 1% data into training and validation\n",
        "\n"
      ],
      "metadata": {
        "id": "x4L6pTro1Cm2"
      }
    },
    {
      "cell_type": "code",
      "source": [
        "from sklearn.model_selection import train_test_split\n",
        "\n",
        "train_df, val_df = train_test_split(df, test_size=0.2, random_state=42)\n",
        "print(len(train_df), len(val_df))"
      ],
      "metadata": {
        "colab": {
          "base_uri": "https://localhost:8080/"
        },
        "id": "HvIPBskJMND_",
        "outputId": "ffb4223e-4598-4ce3-fc8a-133b8d3690fc"
      },
      "execution_count": 25,
      "outputs": [
        {
          "output_type": "stream",
          "name": "stdout",
          "text": [
            "441960 110490\n"
          ]
        }
      ]
    },
    {
      "cell_type": "code",
      "source": [
        "train_df = train_df.dropna()\n",
        "test_df = test_df.dropna()"
      ],
      "metadata": {
        "id": "ovY0TkqSNRtX"
      },
      "execution_count": null,
      "outputs": []
    },
    {
      "cell_type": "code",
      "source": [
        "train_df.columns\n"
      ],
      "metadata": {
        "id": "-9Jw-3cENqAY"
      },
      "execution_count": null,
      "outputs": []
    },
    {
      "cell_type": "code",
      "source": [
        "input_cols = ['pickup_longitude', 'pickup_latitude','dropoff_longitude', 'dropoff_latitude', 'passenger_count']\n",
        "target_cols = 'fare_amount'"
      ],
      "metadata": {
        "id": "bNmQGGAgNsnR"
      },
      "execution_count": null,
      "outputs": []
    },
    {
      "cell_type": "code",
      "source": [
        "train_input = train_df[input_cols]\n",
        "train_target = train_df[target_cols]\n",
        "val_input = val_df[input_cols]\n",
        "val_target = val_df[target_cols]"
      ],
      "metadata": {
        "id": "LAitdAEYN42c"
      },
      "execution_count": null,
      "outputs": []
    },
    {
      "cell_type": "code",
      "source": [
        "len(train_target), len(val_target)"
      ],
      "metadata": {
        "id": "plOEkEprTN7y"
      },
      "execution_count": null,
      "outputs": []
    },
    {
      "cell_type": "code",
      "source": [
        "test_inputs = test_df[input_cols]"
      ],
      "metadata": {
        "id": "ZlaBG4AaOZ4G"
      },
      "execution_count": null,
      "outputs": []
    },
    {
      "cell_type": "markdown",
      "source": [
        "**RMSE function**\n",
        "\n",
        "\n",
        "*   created a RMSE function to evaluate the margin of errors as per competition instructio\n",
        "\n"
      ],
      "metadata": {
        "id": "eDAKdsp51fW3"
      }
    },
    {
      "cell_type": "code",
      "source": [
        "def rmse(targets, predictions):\n",
        "  return np.sqrt(np.mean(np.square(targets - predictions)))\n"
      ],
      "metadata": {
        "id": "KckkckxqVrB7"
      },
      "execution_count": 26,
      "outputs": []
    },
    {
      "cell_type": "markdown",
      "source": [
        "**Function for Submission**\n",
        "\n",
        "\n",
        "*   the function tries out different models to predict\n",
        "*   it also creates a submission file to submit in the competition\n",
        "\n"
      ],
      "metadata": {
        "id": "adUb91X51ulx"
      }
    },
    {
      "cell_type": "code",
      "source": [
        "def predict_and_submit(model, fname, test_inputs):\n",
        "  test_preds = model.predict(test_inputs)\n",
        "  submission_df = pd.DataFrame({\n",
        "      'key': test_df.key,\n",
        "      'fare_amount': test_preds\n",
        "  })\n",
        "  submission_df.to_csv(fname, index=False)\n",
        "  return submission_df"
      ],
      "metadata": {
        "id": "nK8kxtT-p0bP"
      },
      "execution_count": 27,
      "outputs": []
    },
    {
      "cell_type": "markdown",
      "source": [
        "**Feature Engineering**"
      ],
      "metadata": {
        "id": "cWZcVcpL2AbL"
      }
    },
    {
      "cell_type": "markdown",
      "source": [
        "**Extracting information from Dates**\n",
        "\n",
        "\n",
        "*   spliting into date, month, yera, hour, dayofweek, weekend\n",
        "*   Also featuring time of day: Morning, Afternoon, Evening, Night\n",
        "\n",
        "\n"
      ],
      "metadata": {
        "id": "6Wq_Vouf2HR6"
      }
    },
    {
      "cell_type": "code",
      "source": [
        "# prompt: create an add_dateparts function\n",
        "def add_dateparts(df, col):\n",
        "    df[col + '_year'] = df[col].dt.year\n",
        "    df[col + '_month'] = df[col].dt.month\n",
        "    df[col + '_day'] = df[col].dt.day\n",
        "    df[col + '_hour'] = df[col].dt.hour\n",
        "    df[col + '_dayofweek'] = df[col].dt.dayofweek\n",
        "    df[col + '_dayofyear'] = df[col].dt.dayofyear\n",
        "    df[col + '_weekend'] = (df[col].dt.dayofweek // 5 == 1).astype(int) # 1 for weekend, 0 for weekday\n",
        "\n",
        "    return df"
      ],
      "metadata": {
        "id": "oyA5a_xgvnBk"
      },
      "execution_count": 29,
      "outputs": []
    },
    {
      "cell_type": "code",
      "source": [
        "add_dateparts(train_df, 'pickup_datetime')\n",
        "add_dateparts(val_df, 'pickup_datetime')\n",
        "add_dateparts(test_df, 'pickup_datetime')"
      ],
      "metadata": {
        "colab": {
          "base_uri": "https://localhost:8080/",
          "height": 617
        },
        "id": "7RY5pPH8xPuw",
        "outputId": "eee9d9c6-130b-4249-c15e-b18c21cb98c8",
        "collapsed": true
      },
      "execution_count": 30,
      "outputs": [
        {
          "output_type": "execute_result",
          "data": {
            "text/plain": [
              "                              key           pickup_datetime  pickup_longitude  \\\n",
              "0     2015-01-27 13:08:24.0000002 2015-01-27 13:08:24+00:00        -73.973320   \n",
              "1     2015-01-27 13:08:24.0000003 2015-01-27 13:08:24+00:00        -73.986862   \n",
              "2     2011-10-08 11:53:44.0000002 2011-10-08 11:53:44+00:00        -73.982521   \n",
              "3     2012-12-01 21:12:12.0000002 2012-12-01 21:12:12+00:00        -73.981163   \n",
              "4     2012-12-01 21:12:12.0000003 2012-12-01 21:12:12+00:00        -73.966049   \n",
              "...                           ...                       ...               ...   \n",
              "9909  2015-05-10 12:37:51.0000002 2015-05-10 12:37:51+00:00        -73.968124   \n",
              "9910  2015-01-12 17:05:51.0000001 2015-01-12 17:05:51+00:00        -73.945511   \n",
              "9911  2015-04-19 20:44:15.0000001 2015-04-19 20:44:15+00:00        -73.991600   \n",
              "9912  2015-01-31 01:05:19.0000005 2015-01-31 01:05:19+00:00        -73.985573   \n",
              "9913  2015-01-18 14:06:23.0000006 2015-01-18 14:06:23+00:00        -73.988022   \n",
              "\n",
              "      pickup_latitude  dropoff_longitude  dropoff_latitude  passenger_count  \\\n",
              "0           40.763805         -73.981430         40.743835                1   \n",
              "1           40.719383         -73.998886         40.739201                1   \n",
              "2           40.751259         -73.979652         40.746140                1   \n",
              "3           40.767807         -73.990448         40.751637                1   \n",
              "4           40.789776         -73.988564         40.744427                1   \n",
              "...               ...                ...               ...              ...   \n",
              "9909        40.796997         -73.955643         40.780388                6   \n",
              "9910        40.803600         -73.960213         40.776371                6   \n",
              "9911        40.726608         -73.789742         40.647011                6   \n",
              "9912        40.735432         -73.939178         40.801731                6   \n",
              "9913        40.754070         -74.000282         40.759220                6   \n",
              "\n",
              "      pickup_datetime_year  pickup_datetime_month  pickup_datetime_day  \\\n",
              "0                     2015                      1                   27   \n",
              "1                     2015                      1                   27   \n",
              "2                     2011                     10                    8   \n",
              "3                     2012                     12                    1   \n",
              "4                     2012                     12                    1   \n",
              "...                    ...                    ...                  ...   \n",
              "9909                  2015                      5                   10   \n",
              "9910                  2015                      1                   12   \n",
              "9911                  2015                      4                   19   \n",
              "9912                  2015                      1                   31   \n",
              "9913                  2015                      1                   18   \n",
              "\n",
              "      pickup_datetime_hour  pickup_datetime_dayofweek  \\\n",
              "0                       13                          1   \n",
              "1                       13                          1   \n",
              "2                       11                          5   \n",
              "3                       21                          5   \n",
              "4                       21                          5   \n",
              "...                    ...                        ...   \n",
              "9909                    12                          6   \n",
              "9910                    17                          0   \n",
              "9911                    20                          6   \n",
              "9912                     1                          5   \n",
              "9913                    14                          6   \n",
              "\n",
              "      pickup_datetime_dayofyear  pickup_datetime_weekend  \n",
              "0                            27                        0  \n",
              "1                            27                        0  \n",
              "2                           281                        1  \n",
              "3                           336                        1  \n",
              "4                           336                        1  \n",
              "...                         ...                      ...  \n",
              "9909                        130                        1  \n",
              "9910                         12                        0  \n",
              "9911                        109                        1  \n",
              "9912                         31                        1  \n",
              "9913                         18                        1  \n",
              "\n",
              "[9914 rows x 14 columns]"
            ],
            "text/html": [
              "\n",
              "  <div id=\"df-0af5e0e9-950d-4347-bb89-f773b9eaf5f1\" class=\"colab-df-container\">\n",
              "    <div>\n",
              "<style scoped>\n",
              "    .dataframe tbody tr th:only-of-type {\n",
              "        vertical-align: middle;\n",
              "    }\n",
              "\n",
              "    .dataframe tbody tr th {\n",
              "        vertical-align: top;\n",
              "    }\n",
              "\n",
              "    .dataframe thead th {\n",
              "        text-align: right;\n",
              "    }\n",
              "</style>\n",
              "<table border=\"1\" class=\"dataframe\">\n",
              "  <thead>\n",
              "    <tr style=\"text-align: right;\">\n",
              "      <th></th>\n",
              "      <th>key</th>\n",
              "      <th>pickup_datetime</th>\n",
              "      <th>pickup_longitude</th>\n",
              "      <th>pickup_latitude</th>\n",
              "      <th>dropoff_longitude</th>\n",
              "      <th>dropoff_latitude</th>\n",
              "      <th>passenger_count</th>\n",
              "      <th>pickup_datetime_year</th>\n",
              "      <th>pickup_datetime_month</th>\n",
              "      <th>pickup_datetime_day</th>\n",
              "      <th>pickup_datetime_hour</th>\n",
              "      <th>pickup_datetime_dayofweek</th>\n",
              "      <th>pickup_datetime_dayofyear</th>\n",
              "      <th>pickup_datetime_weekend</th>\n",
              "    </tr>\n",
              "  </thead>\n",
              "  <tbody>\n",
              "    <tr>\n",
              "      <th>0</th>\n",
              "      <td>2015-01-27 13:08:24.0000002</td>\n",
              "      <td>2015-01-27 13:08:24+00:00</td>\n",
              "      <td>-73.973320</td>\n",
              "      <td>40.763805</td>\n",
              "      <td>-73.981430</td>\n",
              "      <td>40.743835</td>\n",
              "      <td>1</td>\n",
              "      <td>2015</td>\n",
              "      <td>1</td>\n",
              "      <td>27</td>\n",
              "      <td>13</td>\n",
              "      <td>1</td>\n",
              "      <td>27</td>\n",
              "      <td>0</td>\n",
              "    </tr>\n",
              "    <tr>\n",
              "      <th>1</th>\n",
              "      <td>2015-01-27 13:08:24.0000003</td>\n",
              "      <td>2015-01-27 13:08:24+00:00</td>\n",
              "      <td>-73.986862</td>\n",
              "      <td>40.719383</td>\n",
              "      <td>-73.998886</td>\n",
              "      <td>40.739201</td>\n",
              "      <td>1</td>\n",
              "      <td>2015</td>\n",
              "      <td>1</td>\n",
              "      <td>27</td>\n",
              "      <td>13</td>\n",
              "      <td>1</td>\n",
              "      <td>27</td>\n",
              "      <td>0</td>\n",
              "    </tr>\n",
              "    <tr>\n",
              "      <th>2</th>\n",
              "      <td>2011-10-08 11:53:44.0000002</td>\n",
              "      <td>2011-10-08 11:53:44+00:00</td>\n",
              "      <td>-73.982521</td>\n",
              "      <td>40.751259</td>\n",
              "      <td>-73.979652</td>\n",
              "      <td>40.746140</td>\n",
              "      <td>1</td>\n",
              "      <td>2011</td>\n",
              "      <td>10</td>\n",
              "      <td>8</td>\n",
              "      <td>11</td>\n",
              "      <td>5</td>\n",
              "      <td>281</td>\n",
              "      <td>1</td>\n",
              "    </tr>\n",
              "    <tr>\n",
              "      <th>3</th>\n",
              "      <td>2012-12-01 21:12:12.0000002</td>\n",
              "      <td>2012-12-01 21:12:12+00:00</td>\n",
              "      <td>-73.981163</td>\n",
              "      <td>40.767807</td>\n",
              "      <td>-73.990448</td>\n",
              "      <td>40.751637</td>\n",
              "      <td>1</td>\n",
              "      <td>2012</td>\n",
              "      <td>12</td>\n",
              "      <td>1</td>\n",
              "      <td>21</td>\n",
              "      <td>5</td>\n",
              "      <td>336</td>\n",
              "      <td>1</td>\n",
              "    </tr>\n",
              "    <tr>\n",
              "      <th>4</th>\n",
              "      <td>2012-12-01 21:12:12.0000003</td>\n",
              "      <td>2012-12-01 21:12:12+00:00</td>\n",
              "      <td>-73.966049</td>\n",
              "      <td>40.789776</td>\n",
              "      <td>-73.988564</td>\n",
              "      <td>40.744427</td>\n",
              "      <td>1</td>\n",
              "      <td>2012</td>\n",
              "      <td>12</td>\n",
              "      <td>1</td>\n",
              "      <td>21</td>\n",
              "      <td>5</td>\n",
              "      <td>336</td>\n",
              "      <td>1</td>\n",
              "    </tr>\n",
              "    <tr>\n",
              "      <th>...</th>\n",
              "      <td>...</td>\n",
              "      <td>...</td>\n",
              "      <td>...</td>\n",
              "      <td>...</td>\n",
              "      <td>...</td>\n",
              "      <td>...</td>\n",
              "      <td>...</td>\n",
              "      <td>...</td>\n",
              "      <td>...</td>\n",
              "      <td>...</td>\n",
              "      <td>...</td>\n",
              "      <td>...</td>\n",
              "      <td>...</td>\n",
              "      <td>...</td>\n",
              "    </tr>\n",
              "    <tr>\n",
              "      <th>9909</th>\n",
              "      <td>2015-05-10 12:37:51.0000002</td>\n",
              "      <td>2015-05-10 12:37:51+00:00</td>\n",
              "      <td>-73.968124</td>\n",
              "      <td>40.796997</td>\n",
              "      <td>-73.955643</td>\n",
              "      <td>40.780388</td>\n",
              "      <td>6</td>\n",
              "      <td>2015</td>\n",
              "      <td>5</td>\n",
              "      <td>10</td>\n",
              "      <td>12</td>\n",
              "      <td>6</td>\n",
              "      <td>130</td>\n",
              "      <td>1</td>\n",
              "    </tr>\n",
              "    <tr>\n",
              "      <th>9910</th>\n",
              "      <td>2015-01-12 17:05:51.0000001</td>\n",
              "      <td>2015-01-12 17:05:51+00:00</td>\n",
              "      <td>-73.945511</td>\n",
              "      <td>40.803600</td>\n",
              "      <td>-73.960213</td>\n",
              "      <td>40.776371</td>\n",
              "      <td>6</td>\n",
              "      <td>2015</td>\n",
              "      <td>1</td>\n",
              "      <td>12</td>\n",
              "      <td>17</td>\n",
              "      <td>0</td>\n",
              "      <td>12</td>\n",
              "      <td>0</td>\n",
              "    </tr>\n",
              "    <tr>\n",
              "      <th>9911</th>\n",
              "      <td>2015-04-19 20:44:15.0000001</td>\n",
              "      <td>2015-04-19 20:44:15+00:00</td>\n",
              "      <td>-73.991600</td>\n",
              "      <td>40.726608</td>\n",
              "      <td>-73.789742</td>\n",
              "      <td>40.647011</td>\n",
              "      <td>6</td>\n",
              "      <td>2015</td>\n",
              "      <td>4</td>\n",
              "      <td>19</td>\n",
              "      <td>20</td>\n",
              "      <td>6</td>\n",
              "      <td>109</td>\n",
              "      <td>1</td>\n",
              "    </tr>\n",
              "    <tr>\n",
              "      <th>9912</th>\n",
              "      <td>2015-01-31 01:05:19.0000005</td>\n",
              "      <td>2015-01-31 01:05:19+00:00</td>\n",
              "      <td>-73.985573</td>\n",
              "      <td>40.735432</td>\n",
              "      <td>-73.939178</td>\n",
              "      <td>40.801731</td>\n",
              "      <td>6</td>\n",
              "      <td>2015</td>\n",
              "      <td>1</td>\n",
              "      <td>31</td>\n",
              "      <td>1</td>\n",
              "      <td>5</td>\n",
              "      <td>31</td>\n",
              "      <td>1</td>\n",
              "    </tr>\n",
              "    <tr>\n",
              "      <th>9913</th>\n",
              "      <td>2015-01-18 14:06:23.0000006</td>\n",
              "      <td>2015-01-18 14:06:23+00:00</td>\n",
              "      <td>-73.988022</td>\n",
              "      <td>40.754070</td>\n",
              "      <td>-74.000282</td>\n",
              "      <td>40.759220</td>\n",
              "      <td>6</td>\n",
              "      <td>2015</td>\n",
              "      <td>1</td>\n",
              "      <td>18</td>\n",
              "      <td>14</td>\n",
              "      <td>6</td>\n",
              "      <td>18</td>\n",
              "      <td>1</td>\n",
              "    </tr>\n",
              "  </tbody>\n",
              "</table>\n",
              "<p>9914 rows × 14 columns</p>\n",
              "</div>\n",
              "    <div class=\"colab-df-buttons\">\n",
              "\n",
              "  <div class=\"colab-df-container\">\n",
              "    <button class=\"colab-df-convert\" onclick=\"convertToInteractive('df-0af5e0e9-950d-4347-bb89-f773b9eaf5f1')\"\n",
              "            title=\"Convert this dataframe to an interactive table.\"\n",
              "            style=\"display:none;\">\n",
              "\n",
              "  <svg xmlns=\"http://www.w3.org/2000/svg\" height=\"24px\" viewBox=\"0 -960 960 960\">\n",
              "    <path d=\"M120-120v-720h720v720H120Zm60-500h600v-160H180v160Zm220 220h160v-160H400v160Zm0 220h160v-160H400v160ZM180-400h160v-160H180v160Zm440 0h160v-160H620v160ZM180-180h160v-160H180v160Zm440 0h160v-160H620v160Z\"/>\n",
              "  </svg>\n",
              "    </button>\n",
              "\n",
              "  <style>\n",
              "    .colab-df-container {\n",
              "      display:flex;\n",
              "      gap: 12px;\n",
              "    }\n",
              "\n",
              "    .colab-df-convert {\n",
              "      background-color: #E8F0FE;\n",
              "      border: none;\n",
              "      border-radius: 50%;\n",
              "      cursor: pointer;\n",
              "      display: none;\n",
              "      fill: #1967D2;\n",
              "      height: 32px;\n",
              "      padding: 0 0 0 0;\n",
              "      width: 32px;\n",
              "    }\n",
              "\n",
              "    .colab-df-convert:hover {\n",
              "      background-color: #E2EBFA;\n",
              "      box-shadow: 0px 1px 2px rgba(60, 64, 67, 0.3), 0px 1px 3px 1px rgba(60, 64, 67, 0.15);\n",
              "      fill: #174EA6;\n",
              "    }\n",
              "\n",
              "    .colab-df-buttons div {\n",
              "      margin-bottom: 4px;\n",
              "    }\n",
              "\n",
              "    [theme=dark] .colab-df-convert {\n",
              "      background-color: #3B4455;\n",
              "      fill: #D2E3FC;\n",
              "    }\n",
              "\n",
              "    [theme=dark] .colab-df-convert:hover {\n",
              "      background-color: #434B5C;\n",
              "      box-shadow: 0px 1px 3px 1px rgba(0, 0, 0, 0.15);\n",
              "      filter: drop-shadow(0px 1px 2px rgba(0, 0, 0, 0.3));\n",
              "      fill: #FFFFFF;\n",
              "    }\n",
              "  </style>\n",
              "\n",
              "    <script>\n",
              "      const buttonEl =\n",
              "        document.querySelector('#df-0af5e0e9-950d-4347-bb89-f773b9eaf5f1 button.colab-df-convert');\n",
              "      buttonEl.style.display =\n",
              "        google.colab.kernel.accessAllowed ? 'block' : 'none';\n",
              "\n",
              "      async function convertToInteractive(key) {\n",
              "        const element = document.querySelector('#df-0af5e0e9-950d-4347-bb89-f773b9eaf5f1');\n",
              "        const dataTable =\n",
              "          await google.colab.kernel.invokeFunction('convertToInteractive',\n",
              "                                                    [key], {});\n",
              "        if (!dataTable) return;\n",
              "\n",
              "        const docLinkHtml = 'Like what you see? Visit the ' +\n",
              "          '<a target=\"_blank\" href=https://colab.research.google.com/notebooks/data_table.ipynb>data table notebook</a>'\n",
              "          + ' to learn more about interactive tables.';\n",
              "        element.innerHTML = '';\n",
              "        dataTable['output_type'] = 'display_data';\n",
              "        await google.colab.output.renderOutput(dataTable, element);\n",
              "        const docLink = document.createElement('div');\n",
              "        docLink.innerHTML = docLinkHtml;\n",
              "        element.appendChild(docLink);\n",
              "      }\n",
              "    </script>\n",
              "  </div>\n",
              "\n",
              "\n",
              "    <div id=\"df-4daace63-6455-4db6-8c14-051e567b4fa1\">\n",
              "      <button class=\"colab-df-quickchart\" onclick=\"quickchart('df-4daace63-6455-4db6-8c14-051e567b4fa1')\"\n",
              "                title=\"Suggest charts\"\n",
              "                style=\"display:none;\">\n",
              "\n",
              "<svg xmlns=\"http://www.w3.org/2000/svg\" height=\"24px\"viewBox=\"0 0 24 24\"\n",
              "     width=\"24px\">\n",
              "    <g>\n",
              "        <path d=\"M19 3H5c-1.1 0-2 .9-2 2v14c0 1.1.9 2 2 2h14c1.1 0 2-.9 2-2V5c0-1.1-.9-2-2-2zM9 17H7v-7h2v7zm4 0h-2V7h2v10zm4 0h-2v-4h2v4z\"/>\n",
              "    </g>\n",
              "</svg>\n",
              "      </button>\n",
              "\n",
              "<style>\n",
              "  .colab-df-quickchart {\n",
              "      --bg-color: #E8F0FE;\n",
              "      --fill-color: #1967D2;\n",
              "      --hover-bg-color: #E2EBFA;\n",
              "      --hover-fill-color: #174EA6;\n",
              "      --disabled-fill-color: #AAA;\n",
              "      --disabled-bg-color: #DDD;\n",
              "  }\n",
              "\n",
              "  [theme=dark] .colab-df-quickchart {\n",
              "      --bg-color: #3B4455;\n",
              "      --fill-color: #D2E3FC;\n",
              "      --hover-bg-color: #434B5C;\n",
              "      --hover-fill-color: #FFFFFF;\n",
              "      --disabled-bg-color: #3B4455;\n",
              "      --disabled-fill-color: #666;\n",
              "  }\n",
              "\n",
              "  .colab-df-quickchart {\n",
              "    background-color: var(--bg-color);\n",
              "    border: none;\n",
              "    border-radius: 50%;\n",
              "    cursor: pointer;\n",
              "    display: none;\n",
              "    fill: var(--fill-color);\n",
              "    height: 32px;\n",
              "    padding: 0;\n",
              "    width: 32px;\n",
              "  }\n",
              "\n",
              "  .colab-df-quickchart:hover {\n",
              "    background-color: var(--hover-bg-color);\n",
              "    box-shadow: 0 1px 2px rgba(60, 64, 67, 0.3), 0 1px 3px 1px rgba(60, 64, 67, 0.15);\n",
              "    fill: var(--button-hover-fill-color);\n",
              "  }\n",
              "\n",
              "  .colab-df-quickchart-complete:disabled,\n",
              "  .colab-df-quickchart-complete:disabled:hover {\n",
              "    background-color: var(--disabled-bg-color);\n",
              "    fill: var(--disabled-fill-color);\n",
              "    box-shadow: none;\n",
              "  }\n",
              "\n",
              "  .colab-df-spinner {\n",
              "    border: 2px solid var(--fill-color);\n",
              "    border-color: transparent;\n",
              "    border-bottom-color: var(--fill-color);\n",
              "    animation:\n",
              "      spin 1s steps(1) infinite;\n",
              "  }\n",
              "\n",
              "  @keyframes spin {\n",
              "    0% {\n",
              "      border-color: transparent;\n",
              "      border-bottom-color: var(--fill-color);\n",
              "      border-left-color: var(--fill-color);\n",
              "    }\n",
              "    20% {\n",
              "      border-color: transparent;\n",
              "      border-left-color: var(--fill-color);\n",
              "      border-top-color: var(--fill-color);\n",
              "    }\n",
              "    30% {\n",
              "      border-color: transparent;\n",
              "      border-left-color: var(--fill-color);\n",
              "      border-top-color: var(--fill-color);\n",
              "      border-right-color: var(--fill-color);\n",
              "    }\n",
              "    40% {\n",
              "      border-color: transparent;\n",
              "      border-right-color: var(--fill-color);\n",
              "      border-top-color: var(--fill-color);\n",
              "    }\n",
              "    60% {\n",
              "      border-color: transparent;\n",
              "      border-right-color: var(--fill-color);\n",
              "    }\n",
              "    80% {\n",
              "      border-color: transparent;\n",
              "      border-right-color: var(--fill-color);\n",
              "      border-bottom-color: var(--fill-color);\n",
              "    }\n",
              "    90% {\n",
              "      border-color: transparent;\n",
              "      border-bottom-color: var(--fill-color);\n",
              "    }\n",
              "  }\n",
              "</style>\n",
              "\n",
              "      <script>\n",
              "        async function quickchart(key) {\n",
              "          const quickchartButtonEl =\n",
              "            document.querySelector('#' + key + ' button');\n",
              "          quickchartButtonEl.disabled = true;  // To prevent multiple clicks.\n",
              "          quickchartButtonEl.classList.add('colab-df-spinner');\n",
              "          try {\n",
              "            const charts = await google.colab.kernel.invokeFunction(\n",
              "                'suggestCharts', [key], {});\n",
              "          } catch (error) {\n",
              "            console.error('Error during call to suggestCharts:', error);\n",
              "          }\n",
              "          quickchartButtonEl.classList.remove('colab-df-spinner');\n",
              "          quickchartButtonEl.classList.add('colab-df-quickchart-complete');\n",
              "        }\n",
              "        (() => {\n",
              "          let quickchartButtonEl =\n",
              "            document.querySelector('#df-4daace63-6455-4db6-8c14-051e567b4fa1 button');\n",
              "          quickchartButtonEl.style.display =\n",
              "            google.colab.kernel.accessAllowed ? 'block' : 'none';\n",
              "        })();\n",
              "      </script>\n",
              "    </div>\n",
              "\n",
              "  <div id=\"id_bbd94454-8ec0-4873-a18b-33e605a5c933\">\n",
              "    <style>\n",
              "      .colab-df-generate {\n",
              "        background-color: #E8F0FE;\n",
              "        border: none;\n",
              "        border-radius: 50%;\n",
              "        cursor: pointer;\n",
              "        display: none;\n",
              "        fill: #1967D2;\n",
              "        height: 32px;\n",
              "        padding: 0 0 0 0;\n",
              "        width: 32px;\n",
              "      }\n",
              "\n",
              "      .colab-df-generate:hover {\n",
              "        background-color: #E2EBFA;\n",
              "        box-shadow: 0px 1px 2px rgba(60, 64, 67, 0.3), 0px 1px 3px 1px rgba(60, 64, 67, 0.15);\n",
              "        fill: #174EA6;\n",
              "      }\n",
              "\n",
              "      [theme=dark] .colab-df-generate {\n",
              "        background-color: #3B4455;\n",
              "        fill: #D2E3FC;\n",
              "      }\n",
              "\n",
              "      [theme=dark] .colab-df-generate:hover {\n",
              "        background-color: #434B5C;\n",
              "        box-shadow: 0px 1px 3px 1px rgba(0, 0, 0, 0.15);\n",
              "        filter: drop-shadow(0px 1px 2px rgba(0, 0, 0, 0.3));\n",
              "        fill: #FFFFFF;\n",
              "      }\n",
              "    </style>\n",
              "    <button class=\"colab-df-generate\" onclick=\"generateWithVariable('test_df')\"\n",
              "            title=\"Generate code using this dataframe.\"\n",
              "            style=\"display:none;\">\n",
              "\n",
              "  <svg xmlns=\"http://www.w3.org/2000/svg\" height=\"24px\"viewBox=\"0 0 24 24\"\n",
              "       width=\"24px\">\n",
              "    <path d=\"M7,19H8.4L18.45,9,17,7.55,7,17.6ZM5,21V16.75L18.45,3.32a2,2,0,0,1,2.83,0l1.4,1.43a1.91,1.91,0,0,1,.58,1.4,1.91,1.91,0,0,1-.58,1.4L9.25,21ZM18.45,9,17,7.55Zm-12,3A5.31,5.31,0,0,0,4.9,8.1,5.31,5.31,0,0,0,1,6.5,5.31,5.31,0,0,0,4.9,4.9,5.31,5.31,0,0,0,6.5,1,5.31,5.31,0,0,0,8.1,4.9,5.31,5.31,0,0,0,12,6.5,5.46,5.46,0,0,0,6.5,12Z\"/>\n",
              "  </svg>\n",
              "    </button>\n",
              "    <script>\n",
              "      (() => {\n",
              "      const buttonEl =\n",
              "        document.querySelector('#id_bbd94454-8ec0-4873-a18b-33e605a5c933 button.colab-df-generate');\n",
              "      buttonEl.style.display =\n",
              "        google.colab.kernel.accessAllowed ? 'block' : 'none';\n",
              "\n",
              "      buttonEl.onclick = () => {\n",
              "        google.colab.notebook.generateWithVariable('test_df');\n",
              "      }\n",
              "      })();\n",
              "    </script>\n",
              "  </div>\n",
              "\n",
              "    </div>\n",
              "  </div>\n"
            ],
            "application/vnd.google.colaboratory.intrinsic+json": {
              "type": "dataframe",
              "variable_name": "test_df",
              "summary": "{\n  \"name\": \"test_df\",\n  \"rows\": 9914,\n  \"fields\": [\n    {\n      \"column\": \"key\",\n      \"properties\": {\n        \"dtype\": \"object\",\n        \"num_unique_values\": 9914,\n        \"samples\": [\n          \"2012-01-26 07:33:00.000000147\",\n          \"2012-10-15 20:10:31.0000005\",\n          \"2009-06-10 16:55:00.000000139\"\n        ],\n        \"semantic_type\": \"\",\n        \"description\": \"\"\n      }\n    },\n    {\n      \"column\": \"pickup_datetime\",\n      \"properties\": {\n        \"dtype\": \"date\",\n        \"min\": \"2009-01-01 11:04:24+00:00\",\n        \"max\": \"2015-06-30 20:03:50+00:00\",\n        \"num_unique_values\": 1753,\n        \"samples\": [\n          \"2010-12-01 08:35:20+00:00\",\n          \"2012-05-31 13:14:12+00:00\",\n          \"2013-06-05 01:34:56+00:00\"\n        ],\n        \"semantic_type\": \"\",\n        \"description\": \"\"\n      }\n    },\n    {\n      \"column\": \"pickup_longitude\",\n      \"properties\": {\n        \"dtype\": \"float32\",\n        \"num_unique_values\": 5894,\n        \"samples\": [\n          -74.0028076171875,\n          -74.0020523071289,\n          -73.99974060058594\n        ],\n        \"semantic_type\": \"\",\n        \"description\": \"\"\n      }\n    },\n    {\n      \"column\": \"pickup_latitude\",\n      \"properties\": {\n        \"dtype\": \"float32\",\n        \"num_unique_values\": 7857,\n        \"samples\": [\n          40.753414154052734,\n          40.73805236816406,\n          40.7579231262207\n        ],\n        \"semantic_type\": \"\",\n        \"description\": \"\"\n      }\n    },\n    {\n      \"column\": \"dropoff_longitude\",\n      \"properties\": {\n        \"dtype\": \"float32\",\n        \"num_unique_values\": 6174,\n        \"samples\": [\n          -73.97686767578125,\n          -73.97747802734375,\n          -73.78315734863281\n        ],\n        \"semantic_type\": \"\",\n        \"description\": \"\"\n      }\n    },\n    {\n      \"column\": \"dropoff_latitude\",\n      \"properties\": {\n        \"dtype\": \"float32\",\n        \"num_unique_values\": 8124,\n        \"samples\": [\n          40.76008224487305,\n          40.713375091552734,\n          40.7858772277832\n        ],\n        \"semantic_type\": \"\",\n        \"description\": \"\"\n      }\n    },\n    {\n      \"column\": \"passenger_count\",\n      \"properties\": {\n        \"dtype\": \"uint8\",\n        \"num_unique_values\": 6,\n        \"samples\": [\n          1,\n          2,\n          6\n        ],\n        \"semantic_type\": \"\",\n        \"description\": \"\"\n      }\n    },\n    {\n      \"column\": \"pickup_datetime_year\",\n      \"properties\": {\n        \"dtype\": \"int32\",\n        \"num_unique_values\": 7,\n        \"samples\": [\n          2015,\n          2011,\n          2013\n        ],\n        \"semantic_type\": \"\",\n        \"description\": \"\"\n      }\n    },\n    {\n      \"column\": \"pickup_datetime_month\",\n      \"properties\": {\n        \"dtype\": \"int32\",\n        \"num_unique_values\": 12,\n        \"samples\": [\n          4,\n          9,\n          1\n        ],\n        \"semantic_type\": \"\",\n        \"description\": \"\"\n      }\n    },\n    {\n      \"column\": \"pickup_datetime_day\",\n      \"properties\": {\n        \"dtype\": \"int32\",\n        \"num_unique_values\": 31,\n        \"samples\": [\n          26,\n          9,\n          5\n        ],\n        \"semantic_type\": \"\",\n        \"description\": \"\"\n      }\n    },\n    {\n      \"column\": \"pickup_datetime_hour\",\n      \"properties\": {\n        \"dtype\": \"int32\",\n        \"num_unique_values\": 24,\n        \"samples\": [\n          2,\n          10,\n          13\n        ],\n        \"semantic_type\": \"\",\n        \"description\": \"\"\n      }\n    },\n    {\n      \"column\": \"pickup_datetime_dayofweek\",\n      \"properties\": {\n        \"dtype\": \"int32\",\n        \"num_unique_values\": 7,\n        \"samples\": [\n          1,\n          5,\n          2\n        ],\n        \"semantic_type\": \"\",\n        \"description\": \"\"\n      }\n    },\n    {\n      \"column\": \"pickup_datetime_dayofyear\",\n      \"properties\": {\n        \"dtype\": \"int32\",\n        \"num_unique_values\": 361,\n        \"samples\": [\n          164,\n          182,\n          175\n        ],\n        \"semantic_type\": \"\",\n        \"description\": \"\"\n      }\n    },\n    {\n      \"column\": \"pickup_datetime_weekend\",\n      \"properties\": {\n        \"dtype\": \"number\",\n        \"std\": 0,\n        \"min\": 0,\n        \"max\": 1,\n        \"num_unique_values\": 2,\n        \"samples\": [\n          1,\n          0\n        ],\n        \"semantic_type\": \"\",\n        \"description\": \"\"\n      }\n    }\n  ]\n}"
            }
          },
          "metadata": {},
          "execution_count": 30
        }
      ]
    },
    {
      "cell_type": "code",
      "source": [
        "train_df['time_of_day'] = pd.cut(train_df['pickup_datetime_hour'], bins=[0, 6, 12, 18, 24], labels=['Night', 'Morning', 'Afternoon', 'Evening'], right=False)\n",
        "val_df['time_of_day'] = pd.cut(val_df['pickup_datetime_hour'], bins=[0, 6, 12, 18, 24], labels=['Night', 'Morning', 'Afternoon', 'Evening'], right=False)\n",
        "test_df['time_of_day'] = pd.cut(test_df['pickup_datetime_hour'], bins=[0, 6, 12, 18, 24], labels=['Night', 'Morning', 'Afternoon', 'Evening'], right=False)"
      ],
      "metadata": {
        "id": "AhaVFhtg3EpB"
      },
      "execution_count": 31,
      "outputs": []
    },
    {
      "cell_type": "markdown",
      "source": [
        "**Haversine Function**\n",
        "\n",
        "\n",
        "*   A fucntion to find the distance between pick up and drop off points in km\n"
      ],
      "metadata": {
        "id": "D2o-1DIe86zH"
      }
    },
    {
      "cell_type": "code",
      "source": [
        "# prompt: create a haversine fucntion to calculate the distance between two points: pick up and drop off using lat and long\n",
        "\n",
        "import numpy as np\n",
        "\n",
        "def haversine(lat1, lon1, lat2, lon2):\n",
        "    \"\"\"\n",
        "    Calculate the great circle distance between two points\n",
        "    on the earth (specified in decimal degrees)\n",
        "    \"\"\"\n",
        "    # convert decimal degrees to radians\n",
        "    lon1, lat1, lon2, lat2 = map(np.radians, [lon1, lat1, lon2, lat2])\n",
        "\n",
        "    # haversine formula\n",
        "    dlon = lon2 - lon1\n",
        "    dlat = lat2 - lat1\n",
        "    a = np.sin(dlat/2)**2 + np.cos(lat1) * np.cos(lat2) * np.sin(dlon/2)**2\n",
        "    c = 2 * np.arcsin(np.sqrt(a))\n",
        "    r = 6371 # Radius of earth in kilometers. Use 3956 for miles\n",
        "    return c * r\n"
      ],
      "metadata": {
        "id": "8eSXEDdCzURq"
      },
      "execution_count": 32,
      "outputs": []
    },
    {
      "cell_type": "code",
      "source": [
        "train_df['distance'] = haversine(train_df['pickup_latitude'], train_df['pickup_longitude'], train_df['dropoff_latitude'], train_df['dropoff_longitude'])\n",
        "val_df['distance'] = haversine(val_df['pickup_latitude'], val_df['pickup_longitude'], val_df['dropoff_latitude'], val_df['dropoff_longitude'])\n",
        "test_df['distance'] = haversine(test_df['pickup_latitude'], test_df['pickup_longitude'], test_df['dropoff_latitude'], test_df['dropoff_longitude'])"
      ],
      "metadata": {
        "id": "m7Ut5nvZzrCs"
      },
      "execution_count": 33,
      "outputs": []
    },
    {
      "cell_type": "code",
      "source": [
        "train_df.sample(5)"
      ],
      "metadata": {
        "id": "UuNhx5YUz78C"
      },
      "execution_count": null,
      "outputs": []
    },
    {
      "cell_type": "markdown",
      "source": [
        "**Incorporating Landmarks**\n",
        "\n",
        "*   A df of famous landmarks of NY to explore wider relation with dropoffs\n",
        "*   Used the haversine function to calculate distance from landmarks to dropoffs\n",
        "\n"
      ],
      "metadata": {
        "id": "VJUKVt0o9QUP"
      }
    },
    {
      "cell_type": "code",
      "source": [
        "# prompt: 'Landmark': ['JFK Airport', 'LaGuardia Airport', 'Times Square', 'Central Park', 'Empire State Building'],\n",
        "#     'Latitude': [40.6413, 40.7769, 40.7580, 40.7829, 40.7484],\n",
        "#     'Longitude': [-73.7781, -73.8740, -73.9855, -73.9654, -73.9857]      add more landmarks of NY more\n",
        "\n",
        "import pandas as pd\n",
        "landmarks = {\n",
        "    'Landmark': ['JFK Airport', 'LaGuardia Airport', 'Times Square', 'Central Park', 'Empire State Building'],\n",
        "    'Latitude': [40.6413, 40.7769, 40.7580, 40.7829, 40.7484],\n",
        "    'Longitude': [-73.7781, -73.8740, -73.9855, -73.9654, -73.9857]\n",
        "}\n",
        "\n",
        "\n",
        "landmarks_df = pd.DataFrame(landmarks)\n",
        "landmarks_df\n"
      ],
      "metadata": {
        "colab": {
          "base_uri": "https://localhost:8080/",
          "height": 206
        },
        "id": "SqQUtQQb0739",
        "outputId": "2f654c8c-75ca-4809-ee7e-6cf3f433493d"
      },
      "execution_count": 34,
      "outputs": [
        {
          "output_type": "execute_result",
          "data": {
            "text/plain": [
              "                Landmark  Latitude  Longitude\n",
              "0            JFK Airport   40.6413   -73.7781\n",
              "1      LaGuardia Airport   40.7769   -73.8740\n",
              "2           Times Square   40.7580   -73.9855\n",
              "3           Central Park   40.7829   -73.9654\n",
              "4  Empire State Building   40.7484   -73.9857"
            ],
            "text/html": [
              "\n",
              "  <div id=\"df-07247fd0-0b2d-49a8-bb55-98198e320a51\" class=\"colab-df-container\">\n",
              "    <div>\n",
              "<style scoped>\n",
              "    .dataframe tbody tr th:only-of-type {\n",
              "        vertical-align: middle;\n",
              "    }\n",
              "\n",
              "    .dataframe tbody tr th {\n",
              "        vertical-align: top;\n",
              "    }\n",
              "\n",
              "    .dataframe thead th {\n",
              "        text-align: right;\n",
              "    }\n",
              "</style>\n",
              "<table border=\"1\" class=\"dataframe\">\n",
              "  <thead>\n",
              "    <tr style=\"text-align: right;\">\n",
              "      <th></th>\n",
              "      <th>Landmark</th>\n",
              "      <th>Latitude</th>\n",
              "      <th>Longitude</th>\n",
              "    </tr>\n",
              "  </thead>\n",
              "  <tbody>\n",
              "    <tr>\n",
              "      <th>0</th>\n",
              "      <td>JFK Airport</td>\n",
              "      <td>40.6413</td>\n",
              "      <td>-73.7781</td>\n",
              "    </tr>\n",
              "    <tr>\n",
              "      <th>1</th>\n",
              "      <td>LaGuardia Airport</td>\n",
              "      <td>40.7769</td>\n",
              "      <td>-73.8740</td>\n",
              "    </tr>\n",
              "    <tr>\n",
              "      <th>2</th>\n",
              "      <td>Times Square</td>\n",
              "      <td>40.7580</td>\n",
              "      <td>-73.9855</td>\n",
              "    </tr>\n",
              "    <tr>\n",
              "      <th>3</th>\n",
              "      <td>Central Park</td>\n",
              "      <td>40.7829</td>\n",
              "      <td>-73.9654</td>\n",
              "    </tr>\n",
              "    <tr>\n",
              "      <th>4</th>\n",
              "      <td>Empire State Building</td>\n",
              "      <td>40.7484</td>\n",
              "      <td>-73.9857</td>\n",
              "    </tr>\n",
              "  </tbody>\n",
              "</table>\n",
              "</div>\n",
              "    <div class=\"colab-df-buttons\">\n",
              "\n",
              "  <div class=\"colab-df-container\">\n",
              "    <button class=\"colab-df-convert\" onclick=\"convertToInteractive('df-07247fd0-0b2d-49a8-bb55-98198e320a51')\"\n",
              "            title=\"Convert this dataframe to an interactive table.\"\n",
              "            style=\"display:none;\">\n",
              "\n",
              "  <svg xmlns=\"http://www.w3.org/2000/svg\" height=\"24px\" viewBox=\"0 -960 960 960\">\n",
              "    <path d=\"M120-120v-720h720v720H120Zm60-500h600v-160H180v160Zm220 220h160v-160H400v160Zm0 220h160v-160H400v160ZM180-400h160v-160H180v160Zm440 0h160v-160H620v160ZM180-180h160v-160H180v160Zm440 0h160v-160H620v160Z\"/>\n",
              "  </svg>\n",
              "    </button>\n",
              "\n",
              "  <style>\n",
              "    .colab-df-container {\n",
              "      display:flex;\n",
              "      gap: 12px;\n",
              "    }\n",
              "\n",
              "    .colab-df-convert {\n",
              "      background-color: #E8F0FE;\n",
              "      border: none;\n",
              "      border-radius: 50%;\n",
              "      cursor: pointer;\n",
              "      display: none;\n",
              "      fill: #1967D2;\n",
              "      height: 32px;\n",
              "      padding: 0 0 0 0;\n",
              "      width: 32px;\n",
              "    }\n",
              "\n",
              "    .colab-df-convert:hover {\n",
              "      background-color: #E2EBFA;\n",
              "      box-shadow: 0px 1px 2px rgba(60, 64, 67, 0.3), 0px 1px 3px 1px rgba(60, 64, 67, 0.15);\n",
              "      fill: #174EA6;\n",
              "    }\n",
              "\n",
              "    .colab-df-buttons div {\n",
              "      margin-bottom: 4px;\n",
              "    }\n",
              "\n",
              "    [theme=dark] .colab-df-convert {\n",
              "      background-color: #3B4455;\n",
              "      fill: #D2E3FC;\n",
              "    }\n",
              "\n",
              "    [theme=dark] .colab-df-convert:hover {\n",
              "      background-color: #434B5C;\n",
              "      box-shadow: 0px 1px 3px 1px rgba(0, 0, 0, 0.15);\n",
              "      filter: drop-shadow(0px 1px 2px rgba(0, 0, 0, 0.3));\n",
              "      fill: #FFFFFF;\n",
              "    }\n",
              "  </style>\n",
              "\n",
              "    <script>\n",
              "      const buttonEl =\n",
              "        document.querySelector('#df-07247fd0-0b2d-49a8-bb55-98198e320a51 button.colab-df-convert');\n",
              "      buttonEl.style.display =\n",
              "        google.colab.kernel.accessAllowed ? 'block' : 'none';\n",
              "\n",
              "      async function convertToInteractive(key) {\n",
              "        const element = document.querySelector('#df-07247fd0-0b2d-49a8-bb55-98198e320a51');\n",
              "        const dataTable =\n",
              "          await google.colab.kernel.invokeFunction('convertToInteractive',\n",
              "                                                    [key], {});\n",
              "        if (!dataTable) return;\n",
              "\n",
              "        const docLinkHtml = 'Like what you see? Visit the ' +\n",
              "          '<a target=\"_blank\" href=https://colab.research.google.com/notebooks/data_table.ipynb>data table notebook</a>'\n",
              "          + ' to learn more about interactive tables.';\n",
              "        element.innerHTML = '';\n",
              "        dataTable['output_type'] = 'display_data';\n",
              "        await google.colab.output.renderOutput(dataTable, element);\n",
              "        const docLink = document.createElement('div');\n",
              "        docLink.innerHTML = docLinkHtml;\n",
              "        element.appendChild(docLink);\n",
              "      }\n",
              "    </script>\n",
              "  </div>\n",
              "\n",
              "\n",
              "    <div id=\"df-fe8b05ba-6493-424a-81e0-775862b4057a\">\n",
              "      <button class=\"colab-df-quickchart\" onclick=\"quickchart('df-fe8b05ba-6493-424a-81e0-775862b4057a')\"\n",
              "                title=\"Suggest charts\"\n",
              "                style=\"display:none;\">\n",
              "\n",
              "<svg xmlns=\"http://www.w3.org/2000/svg\" height=\"24px\"viewBox=\"0 0 24 24\"\n",
              "     width=\"24px\">\n",
              "    <g>\n",
              "        <path d=\"M19 3H5c-1.1 0-2 .9-2 2v14c0 1.1.9 2 2 2h14c1.1 0 2-.9 2-2V5c0-1.1-.9-2-2-2zM9 17H7v-7h2v7zm4 0h-2V7h2v10zm4 0h-2v-4h2v4z\"/>\n",
              "    </g>\n",
              "</svg>\n",
              "      </button>\n",
              "\n",
              "<style>\n",
              "  .colab-df-quickchart {\n",
              "      --bg-color: #E8F0FE;\n",
              "      --fill-color: #1967D2;\n",
              "      --hover-bg-color: #E2EBFA;\n",
              "      --hover-fill-color: #174EA6;\n",
              "      --disabled-fill-color: #AAA;\n",
              "      --disabled-bg-color: #DDD;\n",
              "  }\n",
              "\n",
              "  [theme=dark] .colab-df-quickchart {\n",
              "      --bg-color: #3B4455;\n",
              "      --fill-color: #D2E3FC;\n",
              "      --hover-bg-color: #434B5C;\n",
              "      --hover-fill-color: #FFFFFF;\n",
              "      --disabled-bg-color: #3B4455;\n",
              "      --disabled-fill-color: #666;\n",
              "  }\n",
              "\n",
              "  .colab-df-quickchart {\n",
              "    background-color: var(--bg-color);\n",
              "    border: none;\n",
              "    border-radius: 50%;\n",
              "    cursor: pointer;\n",
              "    display: none;\n",
              "    fill: var(--fill-color);\n",
              "    height: 32px;\n",
              "    padding: 0;\n",
              "    width: 32px;\n",
              "  }\n",
              "\n",
              "  .colab-df-quickchart:hover {\n",
              "    background-color: var(--hover-bg-color);\n",
              "    box-shadow: 0 1px 2px rgba(60, 64, 67, 0.3), 0 1px 3px 1px rgba(60, 64, 67, 0.15);\n",
              "    fill: var(--button-hover-fill-color);\n",
              "  }\n",
              "\n",
              "  .colab-df-quickchart-complete:disabled,\n",
              "  .colab-df-quickchart-complete:disabled:hover {\n",
              "    background-color: var(--disabled-bg-color);\n",
              "    fill: var(--disabled-fill-color);\n",
              "    box-shadow: none;\n",
              "  }\n",
              "\n",
              "  .colab-df-spinner {\n",
              "    border: 2px solid var(--fill-color);\n",
              "    border-color: transparent;\n",
              "    border-bottom-color: var(--fill-color);\n",
              "    animation:\n",
              "      spin 1s steps(1) infinite;\n",
              "  }\n",
              "\n",
              "  @keyframes spin {\n",
              "    0% {\n",
              "      border-color: transparent;\n",
              "      border-bottom-color: var(--fill-color);\n",
              "      border-left-color: var(--fill-color);\n",
              "    }\n",
              "    20% {\n",
              "      border-color: transparent;\n",
              "      border-left-color: var(--fill-color);\n",
              "      border-top-color: var(--fill-color);\n",
              "    }\n",
              "    30% {\n",
              "      border-color: transparent;\n",
              "      border-left-color: var(--fill-color);\n",
              "      border-top-color: var(--fill-color);\n",
              "      border-right-color: var(--fill-color);\n",
              "    }\n",
              "    40% {\n",
              "      border-color: transparent;\n",
              "      border-right-color: var(--fill-color);\n",
              "      border-top-color: var(--fill-color);\n",
              "    }\n",
              "    60% {\n",
              "      border-color: transparent;\n",
              "      border-right-color: var(--fill-color);\n",
              "    }\n",
              "    80% {\n",
              "      border-color: transparent;\n",
              "      border-right-color: var(--fill-color);\n",
              "      border-bottom-color: var(--fill-color);\n",
              "    }\n",
              "    90% {\n",
              "      border-color: transparent;\n",
              "      border-bottom-color: var(--fill-color);\n",
              "    }\n",
              "  }\n",
              "</style>\n",
              "\n",
              "      <script>\n",
              "        async function quickchart(key) {\n",
              "          const quickchartButtonEl =\n",
              "            document.querySelector('#' + key + ' button');\n",
              "          quickchartButtonEl.disabled = true;  // To prevent multiple clicks.\n",
              "          quickchartButtonEl.classList.add('colab-df-spinner');\n",
              "          try {\n",
              "            const charts = await google.colab.kernel.invokeFunction(\n",
              "                'suggestCharts', [key], {});\n",
              "          } catch (error) {\n",
              "            console.error('Error during call to suggestCharts:', error);\n",
              "          }\n",
              "          quickchartButtonEl.classList.remove('colab-df-spinner');\n",
              "          quickchartButtonEl.classList.add('colab-df-quickchart-complete');\n",
              "        }\n",
              "        (() => {\n",
              "          let quickchartButtonEl =\n",
              "            document.querySelector('#df-fe8b05ba-6493-424a-81e0-775862b4057a button');\n",
              "          quickchartButtonEl.style.display =\n",
              "            google.colab.kernel.accessAllowed ? 'block' : 'none';\n",
              "        })();\n",
              "      </script>\n",
              "    </div>\n",
              "\n",
              "  <div id=\"id_7086f73d-9103-43bf-85ed-7c7224b0bee0\">\n",
              "    <style>\n",
              "      .colab-df-generate {\n",
              "        background-color: #E8F0FE;\n",
              "        border: none;\n",
              "        border-radius: 50%;\n",
              "        cursor: pointer;\n",
              "        display: none;\n",
              "        fill: #1967D2;\n",
              "        height: 32px;\n",
              "        padding: 0 0 0 0;\n",
              "        width: 32px;\n",
              "      }\n",
              "\n",
              "      .colab-df-generate:hover {\n",
              "        background-color: #E2EBFA;\n",
              "        box-shadow: 0px 1px 2px rgba(60, 64, 67, 0.3), 0px 1px 3px 1px rgba(60, 64, 67, 0.15);\n",
              "        fill: #174EA6;\n",
              "      }\n",
              "\n",
              "      [theme=dark] .colab-df-generate {\n",
              "        background-color: #3B4455;\n",
              "        fill: #D2E3FC;\n",
              "      }\n",
              "\n",
              "      [theme=dark] .colab-df-generate:hover {\n",
              "        background-color: #434B5C;\n",
              "        box-shadow: 0px 1px 3px 1px rgba(0, 0, 0, 0.15);\n",
              "        filter: drop-shadow(0px 1px 2px rgba(0, 0, 0, 0.3));\n",
              "        fill: #FFFFFF;\n",
              "      }\n",
              "    </style>\n",
              "    <button class=\"colab-df-generate\" onclick=\"generateWithVariable('landmarks_df')\"\n",
              "            title=\"Generate code using this dataframe.\"\n",
              "            style=\"display:none;\">\n",
              "\n",
              "  <svg xmlns=\"http://www.w3.org/2000/svg\" height=\"24px\"viewBox=\"0 0 24 24\"\n",
              "       width=\"24px\">\n",
              "    <path d=\"M7,19H8.4L18.45,9,17,7.55,7,17.6ZM5,21V16.75L18.45,3.32a2,2,0,0,1,2.83,0l1.4,1.43a1.91,1.91,0,0,1,.58,1.4,1.91,1.91,0,0,1-.58,1.4L9.25,21ZM18.45,9,17,7.55Zm-12,3A5.31,5.31,0,0,0,4.9,8.1,5.31,5.31,0,0,0,1,6.5,5.31,5.31,0,0,0,4.9,4.9,5.31,5.31,0,0,0,6.5,1,5.31,5.31,0,0,0,8.1,4.9,5.31,5.31,0,0,0,12,6.5,5.46,5.46,0,0,0,6.5,12Z\"/>\n",
              "  </svg>\n",
              "    </button>\n",
              "    <script>\n",
              "      (() => {\n",
              "      const buttonEl =\n",
              "        document.querySelector('#id_7086f73d-9103-43bf-85ed-7c7224b0bee0 button.colab-df-generate');\n",
              "      buttonEl.style.display =\n",
              "        google.colab.kernel.accessAllowed ? 'block' : 'none';\n",
              "\n",
              "      buttonEl.onclick = () => {\n",
              "        google.colab.notebook.generateWithVariable('landmarks_df');\n",
              "      }\n",
              "      })();\n",
              "    </script>\n",
              "  </div>\n",
              "\n",
              "    </div>\n",
              "  </div>\n"
            ],
            "application/vnd.google.colaboratory.intrinsic+json": {
              "type": "dataframe",
              "variable_name": "landmarks_df",
              "summary": "{\n  \"name\": \"landmarks_df\",\n  \"rows\": 5,\n  \"fields\": [\n    {\n      \"column\": \"Landmark\",\n      \"properties\": {\n        \"dtype\": \"string\",\n        \"num_unique_values\": 5,\n        \"samples\": [\n          \"LaGuardia Airport\",\n          \"Empire State Building\",\n          \"Times Square\"\n        ],\n        \"semantic_type\": \"\",\n        \"description\": \"\"\n      }\n    },\n    {\n      \"column\": \"Latitude\",\n      \"properties\": {\n        \"dtype\": \"number\",\n        \"std\": 0.057721356532914846,\n        \"min\": 40.6413,\n        \"max\": 40.7829,\n        \"num_unique_values\": 5,\n        \"samples\": [\n          40.7769,\n          40.7484,\n          40.758\n        ],\n        \"semantic_type\": \"\",\n        \"description\": \"\"\n      }\n    },\n    {\n      \"column\": \"Longitude\",\n      \"properties\": {\n        \"dtype\": \"number\",\n        \"std\": 0.09068347699553864,\n        \"min\": -73.9857,\n        \"max\": -73.7781,\n        \"num_unique_values\": 5,\n        \"samples\": [\n          -73.874,\n          -73.9857,\n          -73.9855\n        ],\n        \"semantic_type\": \"\",\n        \"description\": \"\"\n      }\n    }\n  ]\n}"
            }
          },
          "metadata": {},
          "execution_count": 34
        }
      ]
    },
    {
      "cell_type": "code",
      "source": [
        "# prompt: now create a function that creates columns for all the landmarks showing their haversine distance from the drop off lat lon. u can use the haversine function created above\n",
        "\n",
        "def add_landmark_distances(df, landmark_df):\n",
        "    for index, row in landmarks_df.iterrows():\n",
        "        landmark_name = row['Landmark']\n",
        "        landmark_lat = row['Latitude']\n",
        "        landmark_lon = row['Longitude']\n",
        "\n",
        "        df[f'distance_to_{landmark_name}'] = haversine(df['dropoff_latitude'], df['dropoff_longitude'], landmark_lat, landmark_lon)\n",
        "    return df\n",
        "\n",
        "train_df = add_landmark_distances(train_df, landmarks_df)\n",
        "val_df = add_landmark_distances(val_df, landmarks_df)\n",
        "test_df = add_landmark_distances(test_df, landmarks_df)\n"
      ],
      "metadata": {
        "id": "bfvpMfA54GZf"
      },
      "execution_count": 35,
      "outputs": []
    },
    {
      "cell_type": "code",
      "source": [
        "train_df.sample(5)"
      ],
      "metadata": {
        "id": "uhLmdaY15BwL"
      },
      "execution_count": null,
      "outputs": []
    },
    {
      "cell_type": "code",
      "source": [
        "test_df.describe()"
      ],
      "metadata": {
        "id": "HzMGpIEP6Lya"
      },
      "execution_count": null,
      "outputs": []
    },
    {
      "cell_type": "code",
      "source": [
        "val_df.isna().sum()"
      ],
      "metadata": {
        "id": "LlV__EyG8UK1"
      },
      "execution_count": null,
      "outputs": []
    },
    {
      "cell_type": "markdown",
      "source": [
        "**Handling Outliers**\n",
        "\n",
        "\n",
        "*   some rows have very unreasonable values like 208 passengers\n",
        "*   As the dataset is huge, it can be dropped\n",
        "*   This were dropped based on the limits extracted from test_df\n",
        "\n"
      ],
      "metadata": {
        "id": "hnRkOnKD9tvx"
      }
    },
    {
      "cell_type": "code",
      "source": [
        "# prompt: write a function where I will drop all the rows of train and val df that is not within the max-min range of test_df for the columns of pickup and drop off lat and long and also for the column person that is not in the range (1-10) and for fare_maount (1-500)\n",
        "\n",
        "def drop_outliers(train_df, val_df, test_df):\n",
        "    # Define the columns to check for outliers\n",
        "    columns_to_check = ['pickup_longitude', 'pickup_latitude', 'dropoff_longitude', 'dropoff_latitude']\n",
        "\n",
        "    # Calculate the min and max values for each column in the test set\n",
        "    test_min_max = test_df[columns_to_check].agg(['min', 'max'])\n",
        "\n",
        "    # Filter the train and validation sets based on the min and max values from the test set\n",
        "    for col in columns_to_check:\n",
        "        train_df = train_df[(train_df[col] >= test_min_max[col]['min']) & (train_df[col] <= test_min_max[col]['max'])]\n",
        "        val_df = val_df[(val_df[col] >= test_min_max[col]['min']) & (val_df[col] <= test_min_max[col]['max'])]\n",
        "\n",
        "    # Filter the train and validation sets for passenger_count and fare_amount\n",
        "    train_df = train_df[(train_df['passenger_count'] >= 1) & (train_df['passenger_count'] <= 6)]\n",
        "    train_df = train_df[(train_df['fare_amount'] >= 1) & (train_df['fare_amount'] <= 500)]\n",
        "\n",
        "    val_df = val_df[(val_df['passenger_count'] >= 1) & (val_df['passenger_count'] <= 6)]\n",
        "    val_df = val_df[(val_df['fare_amount'] >= 1) & (val_df['fare_amount'] <= 500)]\n",
        "\n",
        "    return train_df, val_df\n"
      ],
      "metadata": {
        "id": "sieIDI0c6Poo"
      },
      "execution_count": 36,
      "outputs": []
    },
    {
      "cell_type": "code",
      "source": [
        "train_df, val_df = drop_outliers(train_df, val_df, test_df)"
      ],
      "metadata": {
        "id": "Mpz7Uyne743w"
      },
      "execution_count": 37,
      "outputs": []
    },
    {
      "cell_type": "code",
      "source": [
        "train_df.describe()"
      ],
      "metadata": {
        "id": "PNGX2gT38KHC"
      },
      "execution_count": null,
      "outputs": []
    },
    {
      "cell_type": "code",
      "source": [
        "# prompt: save the parquet format for train and val\n",
        "\n",
        "# Save the train and validation DataFrames to parquet files\n",
        "train_df.to_parquet('train.parquet')\n",
        "val_df.to_parquet('val.parquet')\n"
      ],
      "metadata": {
        "id": "u4GaWrr4AUba"
      },
      "execution_count": 38,
      "outputs": []
    },
    {
      "cell_type": "markdown",
      "source": [
        "**Evaluate Function**\n",
        "\n",
        "\n",
        "*   evaluate the modeld and calculating the rmse\n",
        "\n"
      ],
      "metadata": {
        "id": "-lOko6ECDddB"
      }
    },
    {
      "cell_type": "code",
      "source": [
        "def evaluate(model):\n",
        "  train_preds = model.predict(train_inputs)\n",
        "  val_preds = model.predict(val_inputs)\n",
        "  train_rmse = rmse(train_targets, train_preds)\n",
        "  val_rmse = rmse(val_targets, val_preds)\n",
        "  print(f'Train RMSE: {train_rmse:.2f}, Val RMSE: {val_rmse:.2f}')\n",
        "  return train_preds, val_preds, train_rmse, val_rmse"
      ],
      "metadata": {
        "id": "VVTfMrk8BTmB"
      },
      "execution_count": 54,
      "outputs": []
    },
    {
      "cell_type": "markdown",
      "source": [
        "**One Hot Encoder**\n",
        "\n",
        "\n",
        "*   applied on the time_of_day column\n",
        "\n"
      ],
      "metadata": {
        "id": "FFFj_Q-XDRjF"
      }
    },
    {
      "cell_type": "code",
      "source": [
        "import pandas as pd\n",
        "from sklearn.preprocessing import OneHotEncoder\n",
        "\n",
        "encoder = OneHotEncoder(handle_unknown='ignore', sparse_output=False)\n",
        "\n",
        "\n",
        "encoder.fit(train_df[['time_of_day', 'pickup_datetime_dayofweek']])\n",
        "encoded_cols = encoder.get_feature_names_out(['time_of_day', 'pickup_datetime_dayofweek'])\n",
        "train_df[encoded_cols] = encoder.transform(train_df[['time_of_day', 'pickup_datetime_dayofweek']])\n",
        "val_df[encoded_cols] = encoder.transform(val_df[['time_of_day', 'pickup_datetime_dayofweek']])\n",
        "test_df[encoded_cols] = encoder.transform(test_df[['time_of_day', 'pickup_datetime_dayofweek']])\n",
        "\n",
        "encoded_cols"
      ],
      "metadata": {
        "colab": {
          "base_uri": "https://localhost:8080/"
        },
        "id": "xpqF4n3_37mn",
        "outputId": "b281af8d-c8ea-43f5-bb45-c28e3b7c631b"
      },
      "execution_count": 41,
      "outputs": [
        {
          "output_type": "execute_result",
          "data": {
            "text/plain": [
              "array(['time_of_day_Afternoon', 'time_of_day_Evening',\n",
              "       'time_of_day_Morning', 'time_of_day_Night',\n",
              "       'pickup_datetime_dayofweek_0', 'pickup_datetime_dayofweek_1',\n",
              "       'pickup_datetime_dayofweek_2', 'pickup_datetime_dayofweek_3',\n",
              "       'pickup_datetime_dayofweek_4', 'pickup_datetime_dayofweek_5',\n",
              "       'pickup_datetime_dayofweek_6'], dtype=object)"
            ]
          },
          "metadata": {},
          "execution_count": 41
        }
      ]
    },
    {
      "cell_type": "code",
      "source": [
        "train_df.info()"
      ],
      "metadata": {
        "colab": {
          "base_uri": "https://localhost:8080/"
        },
        "id": "gQJj6nBS3zJw",
        "outputId": "44977baf-e628-4891-9253-50d167dd797a"
      },
      "execution_count": 40,
      "outputs": [
        {
          "output_type": "stream",
          "name": "stdout",
          "text": [
            "<class 'pandas.core.frame.DataFrame'>\n",
            "Index: 430925 entries, 353352 to 121958\n",
            "Data columns (total 21 columns):\n",
            " #   Column                             Non-Null Count   Dtype              \n",
            "---  ------                             --------------   -----              \n",
            " 0   fare_amount                        430925 non-null  float32            \n",
            " 1   pickup_datetime                    430925 non-null  datetime64[ns, UTC]\n",
            " 2   pickup_longitude                   430925 non-null  float32            \n",
            " 3   pickup_latitude                    430925 non-null  float32            \n",
            " 4   dropoff_longitude                  430925 non-null  float32            \n",
            " 5   dropoff_latitude                   430925 non-null  float32            \n",
            " 6   passenger_count                    430925 non-null  uint8              \n",
            " 7   pickup_datetime_year               430925 non-null  int32              \n",
            " 8   pickup_datetime_month              430925 non-null  int32              \n",
            " 9   pickup_datetime_day                430925 non-null  int32              \n",
            " 10  pickup_datetime_hour               430925 non-null  int32              \n",
            " 11  pickup_datetime_dayofweek          430925 non-null  int32              \n",
            " 12  pickup_datetime_dayofyear          430925 non-null  int32              \n",
            " 13  pickup_datetime_weekend            430925 non-null  int64              \n",
            " 14  time_of_day                        430925 non-null  category           \n",
            " 15  distance                           430925 non-null  float32            \n",
            " 16  distance_to_JFK Airport            430925 non-null  float32            \n",
            " 17  distance_to_LaGuardia Airport      430925 non-null  float32            \n",
            " 18  distance_to_Times Square           430925 non-null  float32            \n",
            " 19  distance_to_Central Park           430925 non-null  float32            \n",
            " 20  distance_to_Empire State Building  430925 non-null  float32            \n",
            "dtypes: category(1), datetime64[ns, UTC](1), float32(11), int32(6), int64(1), uint8(1)\n",
            "memory usage: 38.6 MB\n"
          ]
        }
      ]
    },
    {
      "cell_type": "markdown",
      "source": [
        "**Columns**\n",
        "\n",
        "\n",
        "*   separated the input and target columns\n",
        "*   created train_inputs, train_targets, val_inputs, val_target\n",
        "\n"
      ],
      "metadata": {
        "id": "-E-gd_slAuPv"
      }
    },
    {
      "cell_type": "code",
      "source": [
        "train_df.columns"
      ],
      "metadata": {
        "colab": {
          "base_uri": "https://localhost:8080/"
        },
        "id": "_5IdLdc-CIfq",
        "outputId": "9b786bf6-ccc9-4983-ded3-267317a8cb7e"
      },
      "execution_count": 42,
      "outputs": [
        {
          "output_type": "execute_result",
          "data": {
            "text/plain": [
              "Index(['fare_amount', 'pickup_datetime', 'pickup_longitude', 'pickup_latitude',\n",
              "       'dropoff_longitude', 'dropoff_latitude', 'passenger_count',\n",
              "       'pickup_datetime_year', 'pickup_datetime_month', 'pickup_datetime_day',\n",
              "       'pickup_datetime_hour', 'pickup_datetime_dayofweek',\n",
              "       'pickup_datetime_dayofyear', 'pickup_datetime_weekend', 'time_of_day',\n",
              "       'distance', 'distance_to_JFK Airport', 'distance_to_LaGuardia Airport',\n",
              "       'distance_to_Times Square', 'distance_to_Central Park',\n",
              "       'distance_to_Empire State Building', 'time_of_day_Afternoon',\n",
              "       'time_of_day_Evening', 'time_of_day_Morning', 'time_of_day_Night',\n",
              "       'pickup_datetime_dayofweek_0', 'pickup_datetime_dayofweek_1',\n",
              "       'pickup_datetime_dayofweek_2', 'pickup_datetime_dayofweek_3',\n",
              "       'pickup_datetime_dayofweek_4', 'pickup_datetime_dayofweek_5',\n",
              "       'pickup_datetime_dayofweek_6'],\n",
              "      dtype='object')"
            ]
          },
          "metadata": {},
          "execution_count": 42
        }
      ]
    },
    {
      "cell_type": "code",
      "source": [
        "input_cols = ['pickup_longitude', 'pickup_latitude',\n",
        "       'dropoff_longitude', 'dropoff_latitude', 'passenger_count',\n",
        "       'pickup_datetime_year', 'pickup_datetime_month', 'pickup_datetime_day',\n",
        "       'pickup_datetime_hour', 'pickup_datetime_dayofweek',\n",
        "       'pickup_datetime_dayofyear', 'pickup_datetime_weekend',\n",
        "       'distance', 'distance_to_JFK Airport', 'distance_to_LaGuardia Airport',\n",
        "       'distance_to_Times Square', 'distance_to_Central Park',\n",
        "       'distance_to_Empire State Building', 'time_of_day_Afternoon',\n",
        "       'time_of_day_Evening', 'time_of_day_Morning', 'time_of_day_Night',\n",
        "       'pickup_datetime_dayofweek_0', 'pickup_datetime_dayofweek_1',\n",
        "       'pickup_datetime_dayofweek_2', 'pickup_datetime_dayofweek_3',\n",
        "       'pickup_datetime_dayofweek_4', 'pickup_datetime_dayofweek_5',\n",
        "       'pickup_datetime_dayofweek_6']\n",
        "target_cols = 'fare_amount'"
      ],
      "metadata": {
        "id": "UGeyte4RAbYr"
      },
      "execution_count": 49,
      "outputs": []
    },
    {
      "cell_type": "code",
      "source": [
        "train_inputs.columns"
      ],
      "metadata": {
        "colab": {
          "base_uri": "https://localhost:8080/"
        },
        "id": "I5cZA8NbCuLO",
        "outputId": "d3e68218-b08a-488c-c3cf-9e2cecb03820"
      },
      "execution_count": 50,
      "outputs": [
        {
          "output_type": "execute_result",
          "data": {
            "text/plain": [
              "Index(['pickup_longitude', 'pickup_latitude', 'dropoff_longitude',\n",
              "       'dropoff_latitude', 'passenger_count', 'pickup_datetime_year',\n",
              "       'pickup_datetime_month', 'pickup_datetime_day', 'pickup_datetime_hour',\n",
              "       'pickup_datetime_dayofweek', 'pickup_datetime_dayofyear',\n",
              "       'pickup_datetime_weekend', 'time_of_day', 'distance',\n",
              "       'distance_to_JFK Airport', 'distance_to_LaGuardia Airport',\n",
              "       'distance_to_Times Square', 'distance_to_Central Park',\n",
              "       'distance_to_Empire State Building', 'time_of_day_Afternoon',\n",
              "       'time_of_day_Evening', 'time_of_day_Morning', 'time_of_day_Night',\n",
              "       'pickup_datetime_dayofweek_0', 'pickup_datetime_dayofweek_1',\n",
              "       'pickup_datetime_dayofweek_2', 'pickup_datetime_dayofweek_3',\n",
              "       'pickup_datetime_dayofweek_4', 'pickup_datetime_dayofweek_5',\n",
              "       'pickup_datetime_dayofweek_6'],\n",
              "      dtype='object')"
            ]
          },
          "metadata": {},
          "execution_count": 50
        }
      ]
    },
    {
      "cell_type": "code",
      "source": [
        "train_inputs = train_df[input_cols]\n",
        "train_targets = train_df[target_cols]\n",
        "val_inputs = val_df[input_cols]\n",
        "val_targets = val_df[target_cols]"
      ],
      "metadata": {
        "id": "9odIMEPLAtin"
      },
      "execution_count": 51,
      "outputs": []
    },
    {
      "cell_type": "code",
      "source": [
        "test_inputs = test_df[input_cols]"
      ],
      "metadata": {
        "id": "xuEgjJbBD7Eh"
      },
      "execution_count": 56,
      "outputs": []
    },
    {
      "cell_type": "code",
      "source": [
        "train_inputs.isna().sum()"
      ],
      "metadata": {
        "colab": {
          "base_uri": "https://localhost:8080/",
          "height": 993
        },
        "collapsed": true,
        "id": "Ht3gjP2nCVWc",
        "outputId": "cf7906db-7cf2-4266-f528-fb975a7a2d1f"
      },
      "execution_count": 52,
      "outputs": [
        {
          "output_type": "execute_result",
          "data": {
            "text/plain": [
              "pickup_longitude                     0\n",
              "pickup_latitude                      0\n",
              "dropoff_longitude                    0\n",
              "dropoff_latitude                     0\n",
              "passenger_count                      0\n",
              "pickup_datetime_year                 0\n",
              "pickup_datetime_month                0\n",
              "pickup_datetime_day                  0\n",
              "pickup_datetime_hour                 0\n",
              "pickup_datetime_dayofweek            0\n",
              "pickup_datetime_dayofyear            0\n",
              "pickup_datetime_weekend              0\n",
              "distance                             0\n",
              "distance_to_JFK Airport              0\n",
              "distance_to_LaGuardia Airport        0\n",
              "distance_to_Times Square             0\n",
              "distance_to_Central Park             0\n",
              "distance_to_Empire State Building    0\n",
              "time_of_day_Afternoon                0\n",
              "time_of_day_Evening                  0\n",
              "time_of_day_Morning                  0\n",
              "time_of_day_Night                    0\n",
              "pickup_datetime_dayofweek_0          0\n",
              "pickup_datetime_dayofweek_1          0\n",
              "pickup_datetime_dayofweek_2          0\n",
              "pickup_datetime_dayofweek_3          0\n",
              "pickup_datetime_dayofweek_4          0\n",
              "pickup_datetime_dayofweek_5          0\n",
              "pickup_datetime_dayofweek_6          0\n",
              "dtype: int64"
            ],
            "text/html": [
              "<div>\n",
              "<style scoped>\n",
              "    .dataframe tbody tr th:only-of-type {\n",
              "        vertical-align: middle;\n",
              "    }\n",
              "\n",
              "    .dataframe tbody tr th {\n",
              "        vertical-align: top;\n",
              "    }\n",
              "\n",
              "    .dataframe thead th {\n",
              "        text-align: right;\n",
              "    }\n",
              "</style>\n",
              "<table border=\"1\" class=\"dataframe\">\n",
              "  <thead>\n",
              "    <tr style=\"text-align: right;\">\n",
              "      <th></th>\n",
              "      <th>0</th>\n",
              "    </tr>\n",
              "  </thead>\n",
              "  <tbody>\n",
              "    <tr>\n",
              "      <th>pickup_longitude</th>\n",
              "      <td>0</td>\n",
              "    </tr>\n",
              "    <tr>\n",
              "      <th>pickup_latitude</th>\n",
              "      <td>0</td>\n",
              "    </tr>\n",
              "    <tr>\n",
              "      <th>dropoff_longitude</th>\n",
              "      <td>0</td>\n",
              "    </tr>\n",
              "    <tr>\n",
              "      <th>dropoff_latitude</th>\n",
              "      <td>0</td>\n",
              "    </tr>\n",
              "    <tr>\n",
              "      <th>passenger_count</th>\n",
              "      <td>0</td>\n",
              "    </tr>\n",
              "    <tr>\n",
              "      <th>pickup_datetime_year</th>\n",
              "      <td>0</td>\n",
              "    </tr>\n",
              "    <tr>\n",
              "      <th>pickup_datetime_month</th>\n",
              "      <td>0</td>\n",
              "    </tr>\n",
              "    <tr>\n",
              "      <th>pickup_datetime_day</th>\n",
              "      <td>0</td>\n",
              "    </tr>\n",
              "    <tr>\n",
              "      <th>pickup_datetime_hour</th>\n",
              "      <td>0</td>\n",
              "    </tr>\n",
              "    <tr>\n",
              "      <th>pickup_datetime_dayofweek</th>\n",
              "      <td>0</td>\n",
              "    </tr>\n",
              "    <tr>\n",
              "      <th>pickup_datetime_dayofyear</th>\n",
              "      <td>0</td>\n",
              "    </tr>\n",
              "    <tr>\n",
              "      <th>pickup_datetime_weekend</th>\n",
              "      <td>0</td>\n",
              "    </tr>\n",
              "    <tr>\n",
              "      <th>distance</th>\n",
              "      <td>0</td>\n",
              "    </tr>\n",
              "    <tr>\n",
              "      <th>distance_to_JFK Airport</th>\n",
              "      <td>0</td>\n",
              "    </tr>\n",
              "    <tr>\n",
              "      <th>distance_to_LaGuardia Airport</th>\n",
              "      <td>0</td>\n",
              "    </tr>\n",
              "    <tr>\n",
              "      <th>distance_to_Times Square</th>\n",
              "      <td>0</td>\n",
              "    </tr>\n",
              "    <tr>\n",
              "      <th>distance_to_Central Park</th>\n",
              "      <td>0</td>\n",
              "    </tr>\n",
              "    <tr>\n",
              "      <th>distance_to_Empire State Building</th>\n",
              "      <td>0</td>\n",
              "    </tr>\n",
              "    <tr>\n",
              "      <th>time_of_day_Afternoon</th>\n",
              "      <td>0</td>\n",
              "    </tr>\n",
              "    <tr>\n",
              "      <th>time_of_day_Evening</th>\n",
              "      <td>0</td>\n",
              "    </tr>\n",
              "    <tr>\n",
              "      <th>time_of_day_Morning</th>\n",
              "      <td>0</td>\n",
              "    </tr>\n",
              "    <tr>\n",
              "      <th>time_of_day_Night</th>\n",
              "      <td>0</td>\n",
              "    </tr>\n",
              "    <tr>\n",
              "      <th>pickup_datetime_dayofweek_0</th>\n",
              "      <td>0</td>\n",
              "    </tr>\n",
              "    <tr>\n",
              "      <th>pickup_datetime_dayofweek_1</th>\n",
              "      <td>0</td>\n",
              "    </tr>\n",
              "    <tr>\n",
              "      <th>pickup_datetime_dayofweek_2</th>\n",
              "      <td>0</td>\n",
              "    </tr>\n",
              "    <tr>\n",
              "      <th>pickup_datetime_dayofweek_3</th>\n",
              "      <td>0</td>\n",
              "    </tr>\n",
              "    <tr>\n",
              "      <th>pickup_datetime_dayofweek_4</th>\n",
              "      <td>0</td>\n",
              "    </tr>\n",
              "    <tr>\n",
              "      <th>pickup_datetime_dayofweek_5</th>\n",
              "      <td>0</td>\n",
              "    </tr>\n",
              "    <tr>\n",
              "      <th>pickup_datetime_dayofweek_6</th>\n",
              "      <td>0</td>\n",
              "    </tr>\n",
              "  </tbody>\n",
              "</table>\n",
              "</div><br><label><b>dtype:</b> int64</label>"
            ]
          },
          "metadata": {},
          "execution_count": 52
        }
      ]
    },
    {
      "cell_type": "markdown",
      "source": [
        "**Gradient Boosting**"
      ],
      "metadata": {
        "id": "ancI6ToEHE7X"
      }
    },
    {
      "cell_type": "code",
      "source": [
        "train_inputs.info()"
      ],
      "metadata": {
        "colab": {
          "base_uri": "https://localhost:8080/"
        },
        "id": "kfzJND_y4ihx",
        "outputId": "ddd7f769-8413-4e60-a2f2-449931137f36",
        "collapsed": true
      },
      "execution_count": 46,
      "outputs": [
        {
          "output_type": "stream",
          "name": "stdout",
          "text": [
            "<class 'pandas.core.frame.DataFrame'>\n",
            "Index: 430925 entries, 353352 to 121958\n",
            "Data columns (total 30 columns):\n",
            " #   Column                             Non-Null Count   Dtype   \n",
            "---  ------                             --------------   -----   \n",
            " 0   pickup_longitude                   430925 non-null  float32 \n",
            " 1   pickup_latitude                    430925 non-null  float32 \n",
            " 2   dropoff_longitude                  430925 non-null  float32 \n",
            " 3   dropoff_latitude                   430925 non-null  float32 \n",
            " 4   passenger_count                    430925 non-null  uint8   \n",
            " 5   pickup_datetime_year               430925 non-null  int32   \n",
            " 6   pickup_datetime_month              430925 non-null  int32   \n",
            " 7   pickup_datetime_day                430925 non-null  int32   \n",
            " 8   pickup_datetime_hour               430925 non-null  int32   \n",
            " 9   pickup_datetime_dayofweek          430925 non-null  int32   \n",
            " 10  pickup_datetime_dayofyear          430925 non-null  int32   \n",
            " 11  pickup_datetime_weekend            430925 non-null  int64   \n",
            " 12  time_of_day                        430925 non-null  category\n",
            " 13  distance                           430925 non-null  float32 \n",
            " 14  distance_to_JFK Airport            430925 non-null  float32 \n",
            " 15  distance_to_LaGuardia Airport      430925 non-null  float32 \n",
            " 16  distance_to_Times Square           430925 non-null  float32 \n",
            " 17  distance_to_Central Park           430925 non-null  float32 \n",
            " 18  distance_to_Empire State Building  430925 non-null  float32 \n",
            " 19  time_of_day_Afternoon              430925 non-null  float64 \n",
            " 20  time_of_day_Evening                430925 non-null  float64 \n",
            " 21  time_of_day_Morning                430925 non-null  float64 \n",
            " 22  time_of_day_Night                  430925 non-null  float64 \n",
            " 23  pickup_datetime_dayofweek_0        430925 non-null  float64 \n",
            " 24  pickup_datetime_dayofweek_1        430925 non-null  float64 \n",
            " 25  pickup_datetime_dayofweek_2        430925 non-null  float64 \n",
            " 26  pickup_datetime_dayofweek_3        430925 non-null  float64 \n",
            " 27  pickup_datetime_dayofweek_4        430925 non-null  float64 \n",
            " 28  pickup_datetime_dayofweek_5        430925 non-null  float64 \n",
            " 29  pickup_datetime_dayofweek_6        430925 non-null  float64 \n",
            "dtypes: category(1), float32(10), float64(11), int32(6), int64(1), uint8(1)\n",
            "memory usage: 69.9 MB\n"
          ]
        }
      ]
    },
    {
      "cell_type": "code",
      "source": [
        "from xgboost import XGBRegressor\n",
        "\n",
        "# Initialize and train the GradientBoostingRegressor\n",
        "xgb_regressor = XGBRegressor(n_estimators=400, learning_rate=0.1, max_depth=5, random_state=42, n_jobs=-1, objective='reg:squarederror') # You can adjust hyperparameters\n",
        "xgb_regressor.fit(train_inputs, train_targets)\n",
        "\n",
        "# Evaluate the model\n",
        "train_preds_xgb, val_preds_xgb, train_rmse_xgb, val_rmse_xgb = evaluate(xgb_regressor)\n",
        "\n",
        "# Create a submission file using the GradientBoostingRegressor\n",
        "predict_and_submit(xgb_regressor, 'submission_gb.csv', test_inputs)\n"
      ],
      "metadata": {
        "colab": {
          "base_uri": "https://localhost:8080/",
          "height": 441
        },
        "id": "nJn8w3MWG4Av",
        "outputId": "8b28ff45-6ba7-47d4-8f01-856b1fa42047"
      },
      "execution_count": 63,
      "outputs": [
        {
          "output_type": "stream",
          "name": "stdout",
          "text": [
            "Train RMSE: 3.28, Val RMSE: 3.91\n"
          ]
        },
        {
          "output_type": "execute_result",
          "data": {
            "text/plain": [
              "                              key  fare_amount\n",
              "0     2015-01-27 13:08:24.0000002    10.846735\n",
              "1     2015-01-27 13:08:24.0000003    11.253995\n",
              "2     2011-10-08 11:53:44.0000002     4.693129\n",
              "3     2012-12-01 21:12:12.0000002     8.882232\n",
              "4     2012-12-01 21:12:12.0000003    16.003944\n",
              "...                           ...          ...\n",
              "9909  2015-05-10 12:37:51.0000002     9.019261\n",
              "9910  2015-01-12 17:05:51.0000001    11.570228\n",
              "9911  2015-04-19 20:44:15.0000001    53.473495\n",
              "9912  2015-01-31 01:05:19.0000005    19.358086\n",
              "9913  2015-01-18 14:06:23.0000006     6.659897\n",
              "\n",
              "[9914 rows x 2 columns]"
            ],
            "text/html": [
              "\n",
              "  <div id=\"df-a0fa5e2b-1485-496b-920b-f750bd52707e\" class=\"colab-df-container\">\n",
              "    <div>\n",
              "<style scoped>\n",
              "    .dataframe tbody tr th:only-of-type {\n",
              "        vertical-align: middle;\n",
              "    }\n",
              "\n",
              "    .dataframe tbody tr th {\n",
              "        vertical-align: top;\n",
              "    }\n",
              "\n",
              "    .dataframe thead th {\n",
              "        text-align: right;\n",
              "    }\n",
              "</style>\n",
              "<table border=\"1\" class=\"dataframe\">\n",
              "  <thead>\n",
              "    <tr style=\"text-align: right;\">\n",
              "      <th></th>\n",
              "      <th>key</th>\n",
              "      <th>fare_amount</th>\n",
              "    </tr>\n",
              "  </thead>\n",
              "  <tbody>\n",
              "    <tr>\n",
              "      <th>0</th>\n",
              "      <td>2015-01-27 13:08:24.0000002</td>\n",
              "      <td>10.846735</td>\n",
              "    </tr>\n",
              "    <tr>\n",
              "      <th>1</th>\n",
              "      <td>2015-01-27 13:08:24.0000003</td>\n",
              "      <td>11.253995</td>\n",
              "    </tr>\n",
              "    <tr>\n",
              "      <th>2</th>\n",
              "      <td>2011-10-08 11:53:44.0000002</td>\n",
              "      <td>4.693129</td>\n",
              "    </tr>\n",
              "    <tr>\n",
              "      <th>3</th>\n",
              "      <td>2012-12-01 21:12:12.0000002</td>\n",
              "      <td>8.882232</td>\n",
              "    </tr>\n",
              "    <tr>\n",
              "      <th>4</th>\n",
              "      <td>2012-12-01 21:12:12.0000003</td>\n",
              "      <td>16.003944</td>\n",
              "    </tr>\n",
              "    <tr>\n",
              "      <th>...</th>\n",
              "      <td>...</td>\n",
              "      <td>...</td>\n",
              "    </tr>\n",
              "    <tr>\n",
              "      <th>9909</th>\n",
              "      <td>2015-05-10 12:37:51.0000002</td>\n",
              "      <td>9.019261</td>\n",
              "    </tr>\n",
              "    <tr>\n",
              "      <th>9910</th>\n",
              "      <td>2015-01-12 17:05:51.0000001</td>\n",
              "      <td>11.570228</td>\n",
              "    </tr>\n",
              "    <tr>\n",
              "      <th>9911</th>\n",
              "      <td>2015-04-19 20:44:15.0000001</td>\n",
              "      <td>53.473495</td>\n",
              "    </tr>\n",
              "    <tr>\n",
              "      <th>9912</th>\n",
              "      <td>2015-01-31 01:05:19.0000005</td>\n",
              "      <td>19.358086</td>\n",
              "    </tr>\n",
              "    <tr>\n",
              "      <th>9913</th>\n",
              "      <td>2015-01-18 14:06:23.0000006</td>\n",
              "      <td>6.659897</td>\n",
              "    </tr>\n",
              "  </tbody>\n",
              "</table>\n",
              "<p>9914 rows × 2 columns</p>\n",
              "</div>\n",
              "    <div class=\"colab-df-buttons\">\n",
              "\n",
              "  <div class=\"colab-df-container\">\n",
              "    <button class=\"colab-df-convert\" onclick=\"convertToInteractive('df-a0fa5e2b-1485-496b-920b-f750bd52707e')\"\n",
              "            title=\"Convert this dataframe to an interactive table.\"\n",
              "            style=\"display:none;\">\n",
              "\n",
              "  <svg xmlns=\"http://www.w3.org/2000/svg\" height=\"24px\" viewBox=\"0 -960 960 960\">\n",
              "    <path d=\"M120-120v-720h720v720H120Zm60-500h600v-160H180v160Zm220 220h160v-160H400v160Zm0 220h160v-160H400v160ZM180-400h160v-160H180v160Zm440 0h160v-160H620v160ZM180-180h160v-160H180v160Zm440 0h160v-160H620v160Z\"/>\n",
              "  </svg>\n",
              "    </button>\n",
              "\n",
              "  <style>\n",
              "    .colab-df-container {\n",
              "      display:flex;\n",
              "      gap: 12px;\n",
              "    }\n",
              "\n",
              "    .colab-df-convert {\n",
              "      background-color: #E8F0FE;\n",
              "      border: none;\n",
              "      border-radius: 50%;\n",
              "      cursor: pointer;\n",
              "      display: none;\n",
              "      fill: #1967D2;\n",
              "      height: 32px;\n",
              "      padding: 0 0 0 0;\n",
              "      width: 32px;\n",
              "    }\n",
              "\n",
              "    .colab-df-convert:hover {\n",
              "      background-color: #E2EBFA;\n",
              "      box-shadow: 0px 1px 2px rgba(60, 64, 67, 0.3), 0px 1px 3px 1px rgba(60, 64, 67, 0.15);\n",
              "      fill: #174EA6;\n",
              "    }\n",
              "\n",
              "    .colab-df-buttons div {\n",
              "      margin-bottom: 4px;\n",
              "    }\n",
              "\n",
              "    [theme=dark] .colab-df-convert {\n",
              "      background-color: #3B4455;\n",
              "      fill: #D2E3FC;\n",
              "    }\n",
              "\n",
              "    [theme=dark] .colab-df-convert:hover {\n",
              "      background-color: #434B5C;\n",
              "      box-shadow: 0px 1px 3px 1px rgba(0, 0, 0, 0.15);\n",
              "      filter: drop-shadow(0px 1px 2px rgba(0, 0, 0, 0.3));\n",
              "      fill: #FFFFFF;\n",
              "    }\n",
              "  </style>\n",
              "\n",
              "    <script>\n",
              "      const buttonEl =\n",
              "        document.querySelector('#df-a0fa5e2b-1485-496b-920b-f750bd52707e button.colab-df-convert');\n",
              "      buttonEl.style.display =\n",
              "        google.colab.kernel.accessAllowed ? 'block' : 'none';\n",
              "\n",
              "      async function convertToInteractive(key) {\n",
              "        const element = document.querySelector('#df-a0fa5e2b-1485-496b-920b-f750bd52707e');\n",
              "        const dataTable =\n",
              "          await google.colab.kernel.invokeFunction('convertToInteractive',\n",
              "                                                    [key], {});\n",
              "        if (!dataTable) return;\n",
              "\n",
              "        const docLinkHtml = 'Like what you see? Visit the ' +\n",
              "          '<a target=\"_blank\" href=https://colab.research.google.com/notebooks/data_table.ipynb>data table notebook</a>'\n",
              "          + ' to learn more about interactive tables.';\n",
              "        element.innerHTML = '';\n",
              "        dataTable['output_type'] = 'display_data';\n",
              "        await google.colab.output.renderOutput(dataTable, element);\n",
              "        const docLink = document.createElement('div');\n",
              "        docLink.innerHTML = docLinkHtml;\n",
              "        element.appendChild(docLink);\n",
              "      }\n",
              "    </script>\n",
              "  </div>\n",
              "\n",
              "\n",
              "    <div id=\"df-af1067a9-ce9f-44b2-b1a2-2af5046fe853\">\n",
              "      <button class=\"colab-df-quickchart\" onclick=\"quickchart('df-af1067a9-ce9f-44b2-b1a2-2af5046fe853')\"\n",
              "                title=\"Suggest charts\"\n",
              "                style=\"display:none;\">\n",
              "\n",
              "<svg xmlns=\"http://www.w3.org/2000/svg\" height=\"24px\"viewBox=\"0 0 24 24\"\n",
              "     width=\"24px\">\n",
              "    <g>\n",
              "        <path d=\"M19 3H5c-1.1 0-2 .9-2 2v14c0 1.1.9 2 2 2h14c1.1 0 2-.9 2-2V5c0-1.1-.9-2-2-2zM9 17H7v-7h2v7zm4 0h-2V7h2v10zm4 0h-2v-4h2v4z\"/>\n",
              "    </g>\n",
              "</svg>\n",
              "      </button>\n",
              "\n",
              "<style>\n",
              "  .colab-df-quickchart {\n",
              "      --bg-color: #E8F0FE;\n",
              "      --fill-color: #1967D2;\n",
              "      --hover-bg-color: #E2EBFA;\n",
              "      --hover-fill-color: #174EA6;\n",
              "      --disabled-fill-color: #AAA;\n",
              "      --disabled-bg-color: #DDD;\n",
              "  }\n",
              "\n",
              "  [theme=dark] .colab-df-quickchart {\n",
              "      --bg-color: #3B4455;\n",
              "      --fill-color: #D2E3FC;\n",
              "      --hover-bg-color: #434B5C;\n",
              "      --hover-fill-color: #FFFFFF;\n",
              "      --disabled-bg-color: #3B4455;\n",
              "      --disabled-fill-color: #666;\n",
              "  }\n",
              "\n",
              "  .colab-df-quickchart {\n",
              "    background-color: var(--bg-color);\n",
              "    border: none;\n",
              "    border-radius: 50%;\n",
              "    cursor: pointer;\n",
              "    display: none;\n",
              "    fill: var(--fill-color);\n",
              "    height: 32px;\n",
              "    padding: 0;\n",
              "    width: 32px;\n",
              "  }\n",
              "\n",
              "  .colab-df-quickchart:hover {\n",
              "    background-color: var(--hover-bg-color);\n",
              "    box-shadow: 0 1px 2px rgba(60, 64, 67, 0.3), 0 1px 3px 1px rgba(60, 64, 67, 0.15);\n",
              "    fill: var(--button-hover-fill-color);\n",
              "  }\n",
              "\n",
              "  .colab-df-quickchart-complete:disabled,\n",
              "  .colab-df-quickchart-complete:disabled:hover {\n",
              "    background-color: var(--disabled-bg-color);\n",
              "    fill: var(--disabled-fill-color);\n",
              "    box-shadow: none;\n",
              "  }\n",
              "\n",
              "  .colab-df-spinner {\n",
              "    border: 2px solid var(--fill-color);\n",
              "    border-color: transparent;\n",
              "    border-bottom-color: var(--fill-color);\n",
              "    animation:\n",
              "      spin 1s steps(1) infinite;\n",
              "  }\n",
              "\n",
              "  @keyframes spin {\n",
              "    0% {\n",
              "      border-color: transparent;\n",
              "      border-bottom-color: var(--fill-color);\n",
              "      border-left-color: var(--fill-color);\n",
              "    }\n",
              "    20% {\n",
              "      border-color: transparent;\n",
              "      border-left-color: var(--fill-color);\n",
              "      border-top-color: var(--fill-color);\n",
              "    }\n",
              "    30% {\n",
              "      border-color: transparent;\n",
              "      border-left-color: var(--fill-color);\n",
              "      border-top-color: var(--fill-color);\n",
              "      border-right-color: var(--fill-color);\n",
              "    }\n",
              "    40% {\n",
              "      border-color: transparent;\n",
              "      border-right-color: var(--fill-color);\n",
              "      border-top-color: var(--fill-color);\n",
              "    }\n",
              "    60% {\n",
              "      border-color: transparent;\n",
              "      border-right-color: var(--fill-color);\n",
              "    }\n",
              "    80% {\n",
              "      border-color: transparent;\n",
              "      border-right-color: var(--fill-color);\n",
              "      border-bottom-color: var(--fill-color);\n",
              "    }\n",
              "    90% {\n",
              "      border-color: transparent;\n",
              "      border-bottom-color: var(--fill-color);\n",
              "    }\n",
              "  }\n",
              "</style>\n",
              "\n",
              "      <script>\n",
              "        async function quickchart(key) {\n",
              "          const quickchartButtonEl =\n",
              "            document.querySelector('#' + key + ' button');\n",
              "          quickchartButtonEl.disabled = true;  // To prevent multiple clicks.\n",
              "          quickchartButtonEl.classList.add('colab-df-spinner');\n",
              "          try {\n",
              "            const charts = await google.colab.kernel.invokeFunction(\n",
              "                'suggestCharts', [key], {});\n",
              "          } catch (error) {\n",
              "            console.error('Error during call to suggestCharts:', error);\n",
              "          }\n",
              "          quickchartButtonEl.classList.remove('colab-df-spinner');\n",
              "          quickchartButtonEl.classList.add('colab-df-quickchart-complete');\n",
              "        }\n",
              "        (() => {\n",
              "          let quickchartButtonEl =\n",
              "            document.querySelector('#df-af1067a9-ce9f-44b2-b1a2-2af5046fe853 button');\n",
              "          quickchartButtonEl.style.display =\n",
              "            google.colab.kernel.accessAllowed ? 'block' : 'none';\n",
              "        })();\n",
              "      </script>\n",
              "    </div>\n",
              "\n",
              "    </div>\n",
              "  </div>\n"
            ],
            "application/vnd.google.colaboratory.intrinsic+json": {
              "type": "dataframe",
              "summary": "{\n  \"name\": \"predict_and_submit(xgb_regressor, 'submission_gb\",\n  \"rows\": 9914,\n  \"fields\": [\n    {\n      \"column\": \"key\",\n      \"properties\": {\n        \"dtype\": \"object\",\n        \"num_unique_values\": 9914,\n        \"samples\": [\n          \"2012-01-26 07:33:00.000000147\",\n          \"2012-10-15 20:10:31.0000005\",\n          \"2009-06-10 16:55:00.000000139\"\n        ],\n        \"semantic_type\": \"\",\n        \"description\": \"\"\n      }\n    },\n    {\n      \"column\": \"fare_amount\",\n      \"properties\": {\n        \"dtype\": \"float32\",\n        \"num_unique_values\": 9910,\n        \"samples\": [\n          7.908748626708984,\n          59.429664611816406,\n          5.373277187347412\n        ],\n        \"semantic_type\": \"\",\n        \"description\": \"\"\n      }\n    }\n  ]\n}"
            }
          },
          "metadata": {},
          "execution_count": 63
        }
      ]
    },
    {
      "cell_type": "markdown",
      "source": [
        "**Ensembling XGB, RF, Lasso **"
      ],
      "metadata": {
        "id": "xt5BUosyXRW2"
      }
    },
    {
      "cell_type": "code",
      "source": [
        "import pandas as pd\n",
        "from sklearn.ensemble import RandomForestRegressor\n",
        "from sklearn.linear_model import Lasso\n",
        "\n",
        "# Initialize and train the RandomForestRegressor\n",
        "rf_regressor = RandomForestRegressor(n_estimators=100, random_state=42, n_jobs=-1)\n",
        "rf_regressor.fit(train_inputs, train_targets)\n",
        "\n",
        "# Evaluate the RandomForestRegressor\n",
        "train_preds_rf, val_preds_rf, train_rmse_rf, val_rmse_rf = evaluate(rf_regressor)\n",
        "\n",
        "# Initialize and train the Lasso Regression model\n",
        "lasso_regressor = Lasso(alpha=0.1, random_state=42) # You can adjust the alpha value\n",
        "lasso_regressor.fit(train_inputs, train_targets)\n",
        "\n",
        "# Evaluate the Lasso Regression model\n",
        "train_preds_lasso, val_preds_lasso, train_rmse_lasso, val_rmse_lasso = evaluate(lasso_regressor)\n",
        "\n",
        "\n",
        "# Ensemble predictions with custom weights\n",
        "# Example weights (you can adjust these)\n",
        "weight_xgb = 0.6\n",
        "weight_rf = 0.3\n",
        "weight_lasso = 0.1\n",
        "\n",
        "#Check if weights sum to 1\n",
        "if (weight_xgb + weight_rf + weight_lasso) != 1:\n",
        "    print(\"Warning: Weights do not sum to 1. Normalizing\")\n",
        "    total_weight = weight_xgb + weight_rf + weight_lasso\n",
        "    weight_xgb = weight_xgb / total_weight\n",
        "    weight_rf = weight_rf / total_weight\n",
        "    weight_lasso = weight_lasso / total_weight\n",
        "\n",
        "\n",
        "ensemble_val_preds = (weight_xgb * val_preds_xgb) + (weight_rf * val_preds_rf) + (weight_lasso * val_preds_lasso)\n",
        "ensemble_rmse = rmse(val_targets, ensemble_val_preds)\n",
        "\n",
        "print(f'Ensemble Validation RMSE: {ensemble_rmse:.2f}')\n",
        "\n",
        "# Predict on test data using the ensemble\n",
        "ensemble_test_preds = (weight_xgb * xgb_regressor.predict(test_inputs)) + (weight_rf * rf_regressor.predict(test_inputs)) + (weight_lasso * lasso_regressor.predict(test_inputs))\n",
        "\n",
        "# Create a submission file for the ensemble\n",
        "submission_df = pd.DataFrame({\n",
        "    'key': test_df.key,\n",
        "    'fare_amount': ensemble_test_preds\n",
        "})\n",
        "submission_df.to_csv('submission_ensemble.csv', index=False)\n"
      ],
      "metadata": {
        "colab": {
          "base_uri": "https://localhost:8080/"
        },
        "id": "uBpFVO0_QVYm",
        "outputId": "c0aabf49-e2a2-4301-ce62-b64b565fb85a"
      },
      "execution_count": 64,
      "outputs": [
        {
          "output_type": "stream",
          "name": "stdout",
          "text": [
            "Train RMSE: 1.43, Val RMSE: 3.96\n",
            "Train RMSE: 5.19, Val RMSE: 5.28\n",
            "Warning: Weights do not sum to 1. Normalizing\n",
            "Ensemble Validation RMSE: 3.88\n"
          ]
        }
      ]
    },
    {
      "cell_type": "code",
      "source": [
        "# prompt: apply gridsearch for hypertuning params of the xgb_regressor\n",
        "\n",
        "from sklearn.model_selection import GridSearchCV\n",
        "\n",
        "# Define the parameter grid to search\n",
        "param_grid = {\n",
        "    'n_estimators': [100, 200, 300, ],  # Example values, adjust as needed\n",
        "    'learning_rate': [0.01, 0.1, 0.2], # Example values, adjust as needed\n",
        "    'max_depth': [3, 5, 7, ], # Example values, adjust as needed\n",
        "}\n",
        "\n",
        "# Initialize the XGBRegressor\n",
        "xgb_regressor = XGBRegressor(random_state=42, n_jobs=-1, objective='reg:squarederror')\n",
        "\n",
        "# Initialize GridSearchCV\n",
        "grid_search = GridSearchCV(\n",
        "    estimator=xgb_regressor,\n",
        "    param_grid=param_grid,\n",
        "    scoring='neg_root_mean_squared_error',  # Use RMSE for scoring\n",
        "    cv=3,  # Number of cross-validation folds\n",
        "    n_jobs=-1, # Use all available cores\n",
        "    verbose=2  # Print progress updates\n",
        ")\n",
        "\n",
        "\n",
        "# Fit the GridSearchCV object to the data\n",
        "grid_search.fit(train_inputs, train_targets)\n",
        "\n",
        "# Get the best hyperparameters\n",
        "best_params = grid_search.best_params_\n",
        "print(\"Best Hyperparameters:\", best_params)\n",
        "\n",
        "# Get the best model\n",
        "best_model = grid_search.best_estimator_\n",
        "\n",
        "# Evaluate the best model\n",
        "train_preds_best, val_preds_best, train_rmse_best, val_rmse_best = evaluate(best_model)\n",
        "print(f'Train RMSE: {train_rmse_best:.2f}, Val RMSE: {val_rmse_best:.2f}')\n",
        "# Create a submission file using the best model\n",
        "predict_and_submit(best_model, 'submission_gridsearch.csv', test_inputs)\n"
      ],
      "metadata": {
        "colab": {
          "base_uri": "https://localhost:8080/",
          "height": 493
        },
        "id": "kZi437N5EP6H",
        "outputId": "c458dac8-b6a1-4d97-b429-8c8e00600c80"
      },
      "execution_count": 59,
      "outputs": [
        {
          "output_type": "stream",
          "name": "stdout",
          "text": [
            "Fitting 3 folds for each of 27 candidates, totalling 81 fits\n",
            "Best Hyperparameters: {'learning_rate': 0.1, 'max_depth': 7, 'n_estimators': 300}\n",
            "Train RMSE: 2.82, Val RMSE: 3.91\n",
            "Train RMSE: 2.82, Val RMSE: 3.91\n"
          ]
        },
        {
          "output_type": "execute_result",
          "data": {
            "text/plain": [
              "                              key  fare_amount\n",
              "0     2015-01-27 13:08:24.0000002    10.532259\n",
              "1     2015-01-27 13:08:24.0000003    11.049778\n",
              "2     2011-10-08 11:53:44.0000002     4.494516\n",
              "3     2012-12-01 21:12:12.0000002     8.987752\n",
              "4     2012-12-01 21:12:12.0000003    16.923683\n",
              "...                           ...          ...\n",
              "9909  2015-05-10 12:37:51.0000002     8.950566\n",
              "9910  2015-01-12 17:05:51.0000001    11.566434\n",
              "9911  2015-04-19 20:44:15.0000001    53.765228\n",
              "9912  2015-01-31 01:05:19.0000005    18.889082\n",
              "9913  2015-01-18 14:06:23.0000006     6.421168\n",
              "\n",
              "[9914 rows x 2 columns]"
            ],
            "text/html": [
              "\n",
              "  <div id=\"df-8bfc3f6b-222a-445c-a332-b4e2dd73ac71\" class=\"colab-df-container\">\n",
              "    <div>\n",
              "<style scoped>\n",
              "    .dataframe tbody tr th:only-of-type {\n",
              "        vertical-align: middle;\n",
              "    }\n",
              "\n",
              "    .dataframe tbody tr th {\n",
              "        vertical-align: top;\n",
              "    }\n",
              "\n",
              "    .dataframe thead th {\n",
              "        text-align: right;\n",
              "    }\n",
              "</style>\n",
              "<table border=\"1\" class=\"dataframe\">\n",
              "  <thead>\n",
              "    <tr style=\"text-align: right;\">\n",
              "      <th></th>\n",
              "      <th>key</th>\n",
              "      <th>fare_amount</th>\n",
              "    </tr>\n",
              "  </thead>\n",
              "  <tbody>\n",
              "    <tr>\n",
              "      <th>0</th>\n",
              "      <td>2015-01-27 13:08:24.0000002</td>\n",
              "      <td>10.532259</td>\n",
              "    </tr>\n",
              "    <tr>\n",
              "      <th>1</th>\n",
              "      <td>2015-01-27 13:08:24.0000003</td>\n",
              "      <td>11.049778</td>\n",
              "    </tr>\n",
              "    <tr>\n",
              "      <th>2</th>\n",
              "      <td>2011-10-08 11:53:44.0000002</td>\n",
              "      <td>4.494516</td>\n",
              "    </tr>\n",
              "    <tr>\n",
              "      <th>3</th>\n",
              "      <td>2012-12-01 21:12:12.0000002</td>\n",
              "      <td>8.987752</td>\n",
              "    </tr>\n",
              "    <tr>\n",
              "      <th>4</th>\n",
              "      <td>2012-12-01 21:12:12.0000003</td>\n",
              "      <td>16.923683</td>\n",
              "    </tr>\n",
              "    <tr>\n",
              "      <th>...</th>\n",
              "      <td>...</td>\n",
              "      <td>...</td>\n",
              "    </tr>\n",
              "    <tr>\n",
              "      <th>9909</th>\n",
              "      <td>2015-05-10 12:37:51.0000002</td>\n",
              "      <td>8.950566</td>\n",
              "    </tr>\n",
              "    <tr>\n",
              "      <th>9910</th>\n",
              "      <td>2015-01-12 17:05:51.0000001</td>\n",
              "      <td>11.566434</td>\n",
              "    </tr>\n",
              "    <tr>\n",
              "      <th>9911</th>\n",
              "      <td>2015-04-19 20:44:15.0000001</td>\n",
              "      <td>53.765228</td>\n",
              "    </tr>\n",
              "    <tr>\n",
              "      <th>9912</th>\n",
              "      <td>2015-01-31 01:05:19.0000005</td>\n",
              "      <td>18.889082</td>\n",
              "    </tr>\n",
              "    <tr>\n",
              "      <th>9913</th>\n",
              "      <td>2015-01-18 14:06:23.0000006</td>\n",
              "      <td>6.421168</td>\n",
              "    </tr>\n",
              "  </tbody>\n",
              "</table>\n",
              "<p>9914 rows × 2 columns</p>\n",
              "</div>\n",
              "    <div class=\"colab-df-buttons\">\n",
              "\n",
              "  <div class=\"colab-df-container\">\n",
              "    <button class=\"colab-df-convert\" onclick=\"convertToInteractive('df-8bfc3f6b-222a-445c-a332-b4e2dd73ac71')\"\n",
              "            title=\"Convert this dataframe to an interactive table.\"\n",
              "            style=\"display:none;\">\n",
              "\n",
              "  <svg xmlns=\"http://www.w3.org/2000/svg\" height=\"24px\" viewBox=\"0 -960 960 960\">\n",
              "    <path d=\"M120-120v-720h720v720H120Zm60-500h600v-160H180v160Zm220 220h160v-160H400v160Zm0 220h160v-160H400v160ZM180-400h160v-160H180v160Zm440 0h160v-160H620v160ZM180-180h160v-160H180v160Zm440 0h160v-160H620v160Z\"/>\n",
              "  </svg>\n",
              "    </button>\n",
              "\n",
              "  <style>\n",
              "    .colab-df-container {\n",
              "      display:flex;\n",
              "      gap: 12px;\n",
              "    }\n",
              "\n",
              "    .colab-df-convert {\n",
              "      background-color: #E8F0FE;\n",
              "      border: none;\n",
              "      border-radius: 50%;\n",
              "      cursor: pointer;\n",
              "      display: none;\n",
              "      fill: #1967D2;\n",
              "      height: 32px;\n",
              "      padding: 0 0 0 0;\n",
              "      width: 32px;\n",
              "    }\n",
              "\n",
              "    .colab-df-convert:hover {\n",
              "      background-color: #E2EBFA;\n",
              "      box-shadow: 0px 1px 2px rgba(60, 64, 67, 0.3), 0px 1px 3px 1px rgba(60, 64, 67, 0.15);\n",
              "      fill: #174EA6;\n",
              "    }\n",
              "\n",
              "    .colab-df-buttons div {\n",
              "      margin-bottom: 4px;\n",
              "    }\n",
              "\n",
              "    [theme=dark] .colab-df-convert {\n",
              "      background-color: #3B4455;\n",
              "      fill: #D2E3FC;\n",
              "    }\n",
              "\n",
              "    [theme=dark] .colab-df-convert:hover {\n",
              "      background-color: #434B5C;\n",
              "      box-shadow: 0px 1px 3px 1px rgba(0, 0, 0, 0.15);\n",
              "      filter: drop-shadow(0px 1px 2px rgba(0, 0, 0, 0.3));\n",
              "      fill: #FFFFFF;\n",
              "    }\n",
              "  </style>\n",
              "\n",
              "    <script>\n",
              "      const buttonEl =\n",
              "        document.querySelector('#df-8bfc3f6b-222a-445c-a332-b4e2dd73ac71 button.colab-df-convert');\n",
              "      buttonEl.style.display =\n",
              "        google.colab.kernel.accessAllowed ? 'block' : 'none';\n",
              "\n",
              "      async function convertToInteractive(key) {\n",
              "        const element = document.querySelector('#df-8bfc3f6b-222a-445c-a332-b4e2dd73ac71');\n",
              "        const dataTable =\n",
              "          await google.colab.kernel.invokeFunction('convertToInteractive',\n",
              "                                                    [key], {});\n",
              "        if (!dataTable) return;\n",
              "\n",
              "        const docLinkHtml = 'Like what you see? Visit the ' +\n",
              "          '<a target=\"_blank\" href=https://colab.research.google.com/notebooks/data_table.ipynb>data table notebook</a>'\n",
              "          + ' to learn more about interactive tables.';\n",
              "        element.innerHTML = '';\n",
              "        dataTable['output_type'] = 'display_data';\n",
              "        await google.colab.output.renderOutput(dataTable, element);\n",
              "        const docLink = document.createElement('div');\n",
              "        docLink.innerHTML = docLinkHtml;\n",
              "        element.appendChild(docLink);\n",
              "      }\n",
              "    </script>\n",
              "  </div>\n",
              "\n",
              "\n",
              "    <div id=\"df-fa772387-8639-4fc3-b4c9-f72ca09809aa\">\n",
              "      <button class=\"colab-df-quickchart\" onclick=\"quickchart('df-fa772387-8639-4fc3-b4c9-f72ca09809aa')\"\n",
              "                title=\"Suggest charts\"\n",
              "                style=\"display:none;\">\n",
              "\n",
              "<svg xmlns=\"http://www.w3.org/2000/svg\" height=\"24px\"viewBox=\"0 0 24 24\"\n",
              "     width=\"24px\">\n",
              "    <g>\n",
              "        <path d=\"M19 3H5c-1.1 0-2 .9-2 2v14c0 1.1.9 2 2 2h14c1.1 0 2-.9 2-2V5c0-1.1-.9-2-2-2zM9 17H7v-7h2v7zm4 0h-2V7h2v10zm4 0h-2v-4h2v4z\"/>\n",
              "    </g>\n",
              "</svg>\n",
              "      </button>\n",
              "\n",
              "<style>\n",
              "  .colab-df-quickchart {\n",
              "      --bg-color: #E8F0FE;\n",
              "      --fill-color: #1967D2;\n",
              "      --hover-bg-color: #E2EBFA;\n",
              "      --hover-fill-color: #174EA6;\n",
              "      --disabled-fill-color: #AAA;\n",
              "      --disabled-bg-color: #DDD;\n",
              "  }\n",
              "\n",
              "  [theme=dark] .colab-df-quickchart {\n",
              "      --bg-color: #3B4455;\n",
              "      --fill-color: #D2E3FC;\n",
              "      --hover-bg-color: #434B5C;\n",
              "      --hover-fill-color: #FFFFFF;\n",
              "      --disabled-bg-color: #3B4455;\n",
              "      --disabled-fill-color: #666;\n",
              "  }\n",
              "\n",
              "  .colab-df-quickchart {\n",
              "    background-color: var(--bg-color);\n",
              "    border: none;\n",
              "    border-radius: 50%;\n",
              "    cursor: pointer;\n",
              "    display: none;\n",
              "    fill: var(--fill-color);\n",
              "    height: 32px;\n",
              "    padding: 0;\n",
              "    width: 32px;\n",
              "  }\n",
              "\n",
              "  .colab-df-quickchart:hover {\n",
              "    background-color: var(--hover-bg-color);\n",
              "    box-shadow: 0 1px 2px rgba(60, 64, 67, 0.3), 0 1px 3px 1px rgba(60, 64, 67, 0.15);\n",
              "    fill: var(--button-hover-fill-color);\n",
              "  }\n",
              "\n",
              "  .colab-df-quickchart-complete:disabled,\n",
              "  .colab-df-quickchart-complete:disabled:hover {\n",
              "    background-color: var(--disabled-bg-color);\n",
              "    fill: var(--disabled-fill-color);\n",
              "    box-shadow: none;\n",
              "  }\n",
              "\n",
              "  .colab-df-spinner {\n",
              "    border: 2px solid var(--fill-color);\n",
              "    border-color: transparent;\n",
              "    border-bottom-color: var(--fill-color);\n",
              "    animation:\n",
              "      spin 1s steps(1) infinite;\n",
              "  }\n",
              "\n",
              "  @keyframes spin {\n",
              "    0% {\n",
              "      border-color: transparent;\n",
              "      border-bottom-color: var(--fill-color);\n",
              "      border-left-color: var(--fill-color);\n",
              "    }\n",
              "    20% {\n",
              "      border-color: transparent;\n",
              "      border-left-color: var(--fill-color);\n",
              "      border-top-color: var(--fill-color);\n",
              "    }\n",
              "    30% {\n",
              "      border-color: transparent;\n",
              "      border-left-color: var(--fill-color);\n",
              "      border-top-color: var(--fill-color);\n",
              "      border-right-color: var(--fill-color);\n",
              "    }\n",
              "    40% {\n",
              "      border-color: transparent;\n",
              "      border-right-color: var(--fill-color);\n",
              "      border-top-color: var(--fill-color);\n",
              "    }\n",
              "    60% {\n",
              "      border-color: transparent;\n",
              "      border-right-color: var(--fill-color);\n",
              "    }\n",
              "    80% {\n",
              "      border-color: transparent;\n",
              "      border-right-color: var(--fill-color);\n",
              "      border-bottom-color: var(--fill-color);\n",
              "    }\n",
              "    90% {\n",
              "      border-color: transparent;\n",
              "      border-bottom-color: var(--fill-color);\n",
              "    }\n",
              "  }\n",
              "</style>\n",
              "\n",
              "      <script>\n",
              "        async function quickchart(key) {\n",
              "          const quickchartButtonEl =\n",
              "            document.querySelector('#' + key + ' button');\n",
              "          quickchartButtonEl.disabled = true;  // To prevent multiple clicks.\n",
              "          quickchartButtonEl.classList.add('colab-df-spinner');\n",
              "          try {\n",
              "            const charts = await google.colab.kernel.invokeFunction(\n",
              "                'suggestCharts', [key], {});\n",
              "          } catch (error) {\n",
              "            console.error('Error during call to suggestCharts:', error);\n",
              "          }\n",
              "          quickchartButtonEl.classList.remove('colab-df-spinner');\n",
              "          quickchartButtonEl.classList.add('colab-df-quickchart-complete');\n",
              "        }\n",
              "        (() => {\n",
              "          let quickchartButtonEl =\n",
              "            document.querySelector('#df-fa772387-8639-4fc3-b4c9-f72ca09809aa button');\n",
              "          quickchartButtonEl.style.display =\n",
              "            google.colab.kernel.accessAllowed ? 'block' : 'none';\n",
              "        })();\n",
              "      </script>\n",
              "    </div>\n",
              "\n",
              "    </div>\n",
              "  </div>\n"
            ],
            "application/vnd.google.colaboratory.intrinsic+json": {
              "type": "dataframe",
              "summary": "{\n  \"name\": \"predict_and_submit(best_model, 'submission_gridsearch\",\n  \"rows\": 9914,\n  \"fields\": [\n    {\n      \"column\": \"key\",\n      \"properties\": {\n        \"dtype\": \"object\",\n        \"num_unique_values\": 9914,\n        \"samples\": [\n          \"2012-01-26 07:33:00.000000147\",\n          \"2012-10-15 20:10:31.0000005\",\n          \"2009-06-10 16:55:00.000000139\"\n        ],\n        \"semantic_type\": \"\",\n        \"description\": \"\"\n      }\n    },\n    {\n      \"column\": \"fare_amount\",\n      \"properties\": {\n        \"dtype\": \"float32\",\n        \"num_unique_values\": 9911,\n        \"samples\": [\n          11.938034057617188,\n          4.489370346069336,\n          5.663257598876953\n        ],\n        \"semantic_type\": \"\",\n        \"description\": \"\"\n      }\n    }\n  ]\n}"
            }
          },
          "metadata": {},
          "execution_count": 59
        }
      ]
    },
    {
      "cell_type": "code",
      "source": [
        "# prompt: generate a test_params function\n",
        "\n",
        "def test_params(model_class, **params):\n",
        "  model = model_class(**params).fit(train_inputs, train_targets)\n",
        "  train_preds, val_preds, train_rmse, val_rmse = evaluate(model)\n",
        "  return train_preds, val_preds, train_rmse, val_rmse\n"
      ],
      "metadata": {
        "id": "AywYOivbKTGU"
      },
      "execution_count": null,
      "outputs": []
    },
    {
      "cell_type": "code",
      "source": [
        "# prompt: generate a test_parans_and_plot function\n",
        "\n",
        "import pandas as pd\n",
        "def test_params_and_plot(model_class, param_name, param_values, **other_params):\n",
        "    train_errors, val_errors = [], []\n",
        "    for value in param_values:\n",
        "        params = dict(other_params)\n",
        "        params[param_name] = value\n",
        "        train_preds, val_preds, train_rmse, val_rmse = test_params(model_class, **params)\n",
        "        train_errors.append(train_rmse)\n",
        "        val_errors.append(val_rmse)\n",
        "\n",
        "    plt.figure(figsize=(10, 6))\n",
        "    plt.title('Overfiting curve:' + param_name)\n",
        "    plt.plot(param_values, train_errors, 'b-o')\n",
        "    plt.plot(param_values, val_errors, 'r-o')\n",
        "    plt.xlabel(param_name)\n",
        "    plt.ylabel('RMSE')\n",
        "    plt.legend('Training', 'Validation')\n",
        "    plt.show()"
      ],
      "metadata": {
        "id": "XGiAVcI3K49D"
      },
      "execution_count": null,
      "outputs": []
    },
    {
      "cell_type": "code",
      "source": [
        "best_params={\n",
        "    'random_state': 42,\n",
        "    'n_jobs':-1,\n",
        "    'objective': 'reg:squarederror',\n",
        "    'n_estimators': 500,\n",
        "    'max_depth': 5,\n",
        "    'learning_rate': 0.08,\n",
        "    'subsample': 0.8,\n",
        "    'colsample_bytree': 0.8\n",
        "}"
      ],
      "metadata": {
        "id": "THlJG1d1NVjm"
      },
      "execution_count": null,
      "outputs": []
    },
    {
      "cell_type": "code",
      "source": [
        "test_params_and_plot(XGBRegressor, 'min_child_weight', [3], **best_params)"
      ],
      "metadata": {
        "id": "1D24CDOkM-DZ"
      },
      "execution_count": null,
      "outputs": []
    }
  ]
}